{
 "cells": [
  {
   "cell_type": "markdown",
   "id": "d8809502",
   "metadata": {},
   "source": [
    "# Stack"
   ]
  },
  {
   "cell_type": "markdown",
   "id": "af1e9462",
   "metadata": {},
   "source": [
    "The stack is a very simple data structure. It is a list of instructions. You can only directly interact with the top of it.\n",
    "\n",
    "You can `push` a new value to the top of the stack or you can `pop` an already existing value from the stack."
   ]
  },
  {
   "cell_type": "markdown",
   "id": "61d3ad10",
   "metadata": {},
   "source": [
    "A stack of plates is a good metaphor. You can add a plate or remove a plate from the top. A stack works in the exact same way."
   ]
  },
  {
   "cell_type": "markdown",
   "id": "d219ccb0",
   "metadata": {},
   "source": [
    "![title](https://t3.ftcdn.net/jpg/00/86/06/84/360_F_86068474_Gmntyf4dZXTH9yWzyQCBaFmEvBQwDPiK.jpg)"
   ]
  },
  {
   "cell_type": "markdown",
   "id": "6f5d2a45",
   "metadata": {},
   "source": [
    "The EVM stack has a maximum capacity of `1024` items. Every item on the stack is at max a 256 bit value (32 bytes)."
   ]
  },
  {
   "cell_type": "code",
   "execution_count": null,
   "id": "0e704969",
   "metadata": {
    "vscode": {
     "languageId": "rust"
    }
   },
   "outputs": [],
   "source": [
    "pub const MAXIMUM_STACK_SIZE: usize = 1024;"
   ]
  },
  {
   "cell_type": "markdown",
   "id": "8271e2b6",
   "metadata": {},
   "source": [
    "We also throw an exception if we try to pop a value of a stack that is empty."
   ]
  },
  {
   "cell_type": "code",
   "execution_count": null,
   "id": "102cacf7",
   "metadata": {
    "vscode": {
     "languageId": "rust"
    }
   },
   "outputs": [],
   "source": [
    "struct Stack {\n",
    "    items: Vec<i32>,\n",
    "}\n",
    "\n",
    "impl Stack {\n",
    "    fn new() -> Self {\n",
    "        Stack { items: Vec::new() }\n",
    "    }\n",
    "\n",
    "    fn to_string(&self) -> String {\n",
    "        let mut ws = vec![];\n",
    "        let len = self.items.len();\n",
    "        for (i, item) in self.items.iter().rev().enumerate() {\n",
    "            if i == 0 {\n",
    "                ws.push(format!(\"{} <first\", item));\n",
    "            } else if i == len - 1 {\n",
    "                ws.push(format!(\"{} <last\", item));\n",
    "            } else {\n",
    "                ws.push(format!(\"{}\", item));\n",
    "            }\n",
    "        }\n",
    "        ws.join(\"\\n\")\n",
    "    }\n",
    "\n",
    "    fn push(&mut self, value: i32) {\n",
    "        if self.items.len() == MAXIMUM_STACK_SIZE - 1 {\n",
    "            panic!(\"Stack overflow\");\n",
    "        }\n",
    "        self.items.push(value);\n",
    "    }\n",
    "\n",
    "    fn pop(&mut self) -> i32 {\n",
    "        if self.items.is_empty() {\n",
    "            panic!(\"Stack underflow\");\n",
    "        }\n",
    "        self.items.pop().unwrap()\n",
    "    }\n",
    "\n",
    "    fn stack(&self) -> Vec<i32> {\n",
    "        self.items.clone()\n",
    "    }\n",
    "}\n"
   ]
  },
  {
   "cell_type": "markdown",
   "id": "632196ec",
   "metadata": {},
   "source": [
    "We create a Stack"
   ]
  },
  {
   "cell_type": "code",
   "execution_count": null,
   "id": "aaaf2494",
   "metadata": {
    "vscode": {
     "languageId": "rust"
    }
   },
   "outputs": [],
   "source": [
    "let mut stack = Stack::new();"
   ]
  },
  {
   "cell_type": "markdown",
   "id": "6da0e02f",
   "metadata": {},
   "source": [
    "We push 3 values to the stack"
   ]
  },
  {
   "cell_type": "code",
   "execution_count": null,
   "id": "8771e0a0",
   "metadata": {
    "vscode": {
     "languageId": "rust"
    }
   },
   "outputs": [
    {
     "name": "stdout",
     "output_type": "stream",
     "text": [
      "1 <first\n",
      "4\n",
      "2 <last\n"
     ]
    }
   ],
   "source": [
    "stack.push(2);\n",
    "stack.push(4);\n",
    "stack.push(1);\n",
    "\n",
    "println!(\"{}\", stack.to_string());\n"
   ]
  },
  {
   "cell_type": "markdown",
   "id": "1da65b97",
   "metadata": {},
   "source": [
    "We pop one of the stack. Which is `1`."
   ]
  },
  {
   "cell_type": "code",
   "execution_count": null,
   "id": "41cf0942",
   "metadata": {
    "vscode": {
     "languageId": "rust"
    }
   },
   "outputs": [
    {
     "data": {
      "text/plain": [
       "1"
      ]
     },
     "execution_count": 35,
     "metadata": {},
     "output_type": "execute_result"
    }
   ],
   "source": [
    "stack.pop();"
   ]
  },
  {
   "cell_type": "markdown",
   "id": "fb3d028a",
   "metadata": {},
   "source": [
    "Now only 2 values are left on the stack. Notice how we removed `1`. And `4` has become the first value."
   ]
  },
  {
   "cell_type": "code",
   "execution_count": null,
   "id": "b1612ec9",
   "metadata": {
    "vscode": {
     "languageId": "rust"
    }
   },
   "outputs": [
    {
     "name": "stdout",
     "output_type": "stream",
     "text": [
      "4 <first\n",
      "2 <last\n"
     ]
    }
   ],
   "source": [
    "println!(\"{}\", stack.to_string());"
   ]
  }
 ],
 "metadata": {
  "kernelspec": {
   "display_name": "Python 3 (ipykernel)",
   "language": "python",
   "name": "python3"
  },
  "language_info": {
   "codemirror_mode": {
    "name": "ipython",
    "version": 3
   },
   "file_extension": ".py",
   "mimetype": "text/x-python",
   "name": "python",
   "nbconvert_exporter": "python",
   "pygments_lexer": "ipython3",
   "version": "3.9.6"
  }
 },
 "nbformat": 4,
 "nbformat_minor": 5
}
