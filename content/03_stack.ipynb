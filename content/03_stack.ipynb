{
 "cells": [
  {
   "cell_type": "markdown",
   "id": "d8809502",
   "metadata": {},
   "source": [
    "# Stack"
   ]
  },
  {
   "cell_type": "markdown",
   "id": "af1e9462",
   "metadata": {},
   "source": [
    "The stack is a very simple data structure. It is a list of instructions. You can only directly interact with the top of it.\n",
    "\n",
    "You can `push` a new value to the top of the stack or you can `pop` an already existing value from the stack."
   ]
  },
  {
   "cell_type": "markdown",
   "id": "61d3ad10",
   "metadata": {},
   "source": [
    "A stack of plates is a good metaphor. You can add a plate or remove a plate from the top. A stack works in the same way."
   ]
  },
  {
   "cell_type": "markdown",
   "id": "d219ccb0",
   "metadata": {},
   "source": [
    "![title](https://t3.ftcdn.net/jpg/00/86/06/84/360_F_86068474_Gmntyf4dZXTH9yWzyQCBaFmEvBQwDPiK.jpg)"
   ]
  },
  {
   "cell_type": "markdown",
   "id": "6f5d2a45",
   "metadata": {},
   "source": [
    "The EVM stack has a maximum capacity of `1024` items. Every item on the stack is at max a 256-bit value (32 bytes)."
   ]
  },
  {
   "cell_type": "markdown",
   "id": "b5bdcdb2",
   "metadata": {},
   "source": []
  },
  {
   "cell_type": "code",
   "execution_count": 31,
   "id": "0e704969",
   "metadata": {},
   "outputs": [],
   "source": [
    "MAXIMUM_STACK_SIZE = 1024"
   ]
  },
  {
   "cell_type": "markdown",
   "id": "8271e2b6",
   "metadata": {},
   "source": [
    "We also throw an exception if we try to pop a value from a stack that is empty."
   ]
  },
  {
   "cell_type": "code",
   "execution_count": 32,
   "id": "102cacf7",
   "metadata": {},
   "outputs": [],
   "source": [
    "class Stack:\n",
    "    def __init__(self): self.items = []\n",
    "    def __str__ (self): \n",
    "        ws = []\n",
    "        for i, item in enumerate(self.items[::-1]):\n",
    "            if   i == 0                : ws.append(f\"{item} <first\")\n",
    "            elif i == len(self.items)-1: ws.append(f\"{item} <last\") \n",
    "            else                       : ws.append(str(item))\n",
    "        return \"\\n\".join(ws)\n",
    "        \n",
    "    def push(self, value): \n",
    "        if len(self.items) == MAXIMUM_STACK_SIZE: raise Exception(\"Stack overflow\")\n",
    "        self.items.append(value)    \n",
    "    \n",
    "    def pop(self):\n",
    "        if len(self.items) == 0: raise Exception(\"Stack underflow\")\n",
    "        return self.items.pop()\n",
    "    \n",
    "    @property\n",
    "    def stack(self):\n",
    "        return self.items.copy()"
   ]
  },
  {
   "cell_type": "markdown",
   "id": "632196ec",
   "metadata": {},
   "source": [
    "We create a Stack"
   ]
  },
  {
   "cell_type": "code",
   "execution_count": 4,
   "id": "aaaf2494",
   "metadata": {},
   "outputs": [],
   "source": [
    "stack = Stack()"
   ]
  },
  {
   "cell_type": "markdown",
   "id": "6da0e02f",
   "metadata": {},
   "source": [
    "We push 3 values to the stack"
   ]
  },
  {
   "cell_type": "code",
   "execution_count": 5,
   "id": "8771e0a0",
   "metadata": {},
   "outputs": [
    {
     "name": "stdout",
     "output_type": "stream",
     "text": [
      "1 <first\n",
      "4\n",
      "2 <last\n"
     ]
    }
   ],
   "source": [
    "stack.push(2)\n",
    "stack.push(4)\n",
    "stack.push(1)\n",
    "\n",
    "print(stack)"
   ]
  },
  {
   "cell_type": "markdown",
   "id": "1da65b97",
   "metadata": {},
   "source": [
    "We pop one of the stack. Which is `1`."
   ]
  },
  {
   "cell_type": "code",
   "execution_count": 6,
   "id": "41cf0942",
   "metadata": {},
   "outputs": [
    {
     "data": {
      "text/plain": [
       "1"
      ]
     },
     "execution_count": 6,
     "metadata": {},
     "output_type": "execute_result"
    }
   ],
   "source": [
    "stack.pop()"
   ]
  },
  {
   "cell_type": "markdown",
   "id": "fb3d028a",
   "metadata": {},
   "source": [
    "Now only 2 values are left on the stack. Notice how we removed `1`. And `4` has become the first value."
   ]
  },
  {
   "cell_type": "code",
   "execution_count": 7,
   "id": "b1612ec9",
   "metadata": {},
   "outputs": [
    {
     "name": "stdout",
     "output_type": "stream",
     "text": [
      "4 <first\n",
      "2 <last\n"
     ]
    }
   ],
   "source": [
    "print(stack)"
   ]
  }
 ],
 "metadata": {
  "kernelspec": {
   "display_name": "Python 3 (ipykernel)",
   "language": "python",
   "name": "python3"
  },
  "language_info": {
   "codemirror_mode": {
    "name": "ipython",
    "version": 3
   },
   "file_extension": ".py",
   "mimetype": "text/x-python",
   "name": "python",
   "nbconvert_exporter": "python",
   "pygments_lexer": "ipython3",
   "version": "3.9.6"
  }
 },
 "nbformat": 4,
 "nbformat_minor": 5
}
