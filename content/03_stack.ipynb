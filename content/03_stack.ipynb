{
 "cells": [
  {
   "cell_type": "markdown",
   "id": "d8809502",
   "metadata": {},
   "source": [
    "# Stack"
   ]
  },
  {
   "cell_type": "markdown",
   "id": "af1e9462",
   "metadata": {},
   "source": [
    "The stack is a very simple data structure. It is a list of instructions. You can only directly interact with the top of it.\n",
    "\n",
    "You can `push` a new value to the top of the stack or you can `pop` an already existing value from the stack."
   ]
  },
  {
   "cell_type": "markdown",
   "id": "61d3ad10",
   "metadata": {},
   "source": [
    "A stack of plates is a good metaphor. You can add a plate or remove a plate from the top. A stack works in the same way."
   ]
  },
  {
   "cell_type": "markdown",
   "id": "d219ccb0",
   "metadata": {},
   "source": [
    "![title](https://t3.ftcdn.net/jpg/00/86/06/84/360_F_86068474_Gmntyf4dZXTH9yWzyQCBaFmEvBQwDPiK.jpg)"
   ]
  },
  {
   "cell_type": "markdown",
   "id": "6f5d2a45",
   "metadata": {},
   "source": [
    "The EVM stack has a maximum capacity of `1024` items. Every item on the stack is at max a 256-bit value (32 bytes)."
   ]
  },
  {
   "cell_type": "markdown",
   "id": "b5bdcdb2",
   "metadata": {},
   "source": []
  },
  {
   "cell_type": "code",
   "execution_count": 1,
   "id": "0e704969",
   "metadata": {},
   "outputs": [],
   "source": [
    "MAXIMUM_STACK_SIZE = 1024"
   ]
  },
  {
   "cell_type": "markdown",
   "id": "66ceced1",
   "metadata": {},
   "source": [
    "We are also declaring one variable to represent 2^256. We will use it to mod the element getting pushed on stack so that it always stays positive. The stack stores element in uint256 (0 to 2^256-1). That means the negative number will be represented as 2s compliment. For example:- -1 is (2^256-1) in stack."
   ]
  },
  {
   "cell_type": "code",
   "execution_count": 2,
   "id": "8aadb872",
   "metadata": {},
   "outputs": [],
   "source": [
    "MOD=1<<256  # it's another  way of saying 2^256"
   ]
  },
  {
   "cell_type": "markdown",
   "id": "8271e2b6",
   "metadata": {},
   "source": [
    "We also throw an exception if we try to pop a value from a stack that is empty."
   ]
  },
  {
   "cell_type": "code",
   "execution_count": 4,
   "id": "102cacf7",
   "metadata": {},
   "outputs": [],
   "source": [
    "class Stack:\n",
    "    def __init__(self): self.items=[]\n",
    "\n",
    "    def __str__(self):\n",
    "        def to_signed(x):\n",
    "            if x >= 2**255:\n",
    "                return x - 2**256\n",
    "            return x\n",
    "\n",
    "        ws = []\n",
    "        for i, item in enumerate(self.items[::-1]):\n",
    "            signed = to_signed(item)\n",
    "            if i == 0:\n",
    "                ws.append(f\"{item} (signed: {signed}) <top>\")\n",
    "            elif i == len(self.items) - 1:\n",
    "                ws.append(f\"{item} (signed: {signed}) <bottom>\")\n",
    "            else:\n",
    "                ws.append(f\"{item} (signed: {signed})\")\n",
    "        return \"\\n\".join(ws)\n",
    "\n",
    "    def push(self, value): \n",
    "        if len(self.items) >= MAXIMUM_STACK_SIZE: raise Exception(\"Stack overflow\")\n",
    "        self.items.append(value%MOD)    \n",
    "    \n",
    "    def pop(self):\n",
    "        if len(self.items) == 0: raise Exception(\"Stack underflow\")\n",
    "        return self.items.pop()\n",
    "    \n",
    "    @property\n",
    "    def stack(self):\n",
    "        return self.items.copy()    "
   ]
  },
  {
   "cell_type": "markdown",
   "id": "632196ec",
   "metadata": {},
   "source": [
    "We create a Stack"
   ]
  },
  {
   "cell_type": "code",
   "execution_count": 5,
   "id": "aaaf2494",
   "metadata": {},
   "outputs": [],
   "source": [
    "stack = Stack()"
   ]
  },
  {
   "cell_type": "markdown",
   "id": "6da0e02f",
   "metadata": {},
   "source": [
    "We push 3 values to the stack"
   ]
  },
  {
   "cell_type": "code",
   "execution_count": 6,
   "id": "8771e0a0",
   "metadata": {},
   "outputs": [
    {
     "name": "stdout",
     "output_type": "stream",
     "text": [
      "115792089237316195423570985008687907853269984665640564039457584007913129639935 (signed: -1) <top>\n",
      "0 (signed: 0)\n",
      "1 (signed: 1) <bottom>\n"
     ]
    }
   ],
   "source": [
    "stack.push(1)\n",
    "stack.push(0)\n",
    "stack.push(-1)\n",
    "\n",
    "\n",
    "print(stack)"
   ]
  },
  {
   "cell_type": "markdown",
   "id": "1da65b97",
   "metadata": {},
   "source": [
    "We pop one of the stack. Which is `-1`. That big number is the unsigned representation of -1 that is 2^256-1. In the bracket, it will look the same in integral/signed format."
   ]
  },
  {
   "cell_type": "code",
   "execution_count": 7,
   "id": "41cf0942",
   "metadata": {},
   "outputs": [
    {
     "data": {
      "text/plain": [
       "115792089237316195423570985008687907853269984665640564039457584007913129639935"
      ]
     },
     "execution_count": 7,
     "metadata": {},
     "output_type": "execute_result"
    }
   ],
   "source": [
    "stack.pop()"
   ]
  },
  {
   "cell_type": "markdown",
   "id": "fb3d028a",
   "metadata": {},
   "source": [
    "Now only 2 values are left on the stack. Notice how we removed `-1`. And `0` has become the first value."
   ]
  },
  {
   "cell_type": "code",
   "execution_count": 9,
   "id": "b1612ec9",
   "metadata": {},
   "outputs": [
    {
     "name": "stdout",
     "output_type": "stream",
     "text": [
      "0 (signed: 0) <top>\n",
      "1 (signed: 1) <bottom>\n"
     ]
    }
   ],
   "source": [
    "print(stack)"
   ]
  }
 ],
 "metadata": {
  "kernelspec": {
   "display_name": "Python 3",
   "language": "python",
   "name": "python3"
  },
  "language_info": {
   "codemirror_mode": {
    "name": "ipython",
    "version": 3
   },
   "file_extension": ".py",
   "mimetype": "text/x-python",
   "name": "python",
   "nbconvert_exporter": "python",
   "pygments_lexer": "ipython3",
   "version": "3.12.3"
  }
 },
 "nbformat": 4,
 "nbformat_minor": 5
}
