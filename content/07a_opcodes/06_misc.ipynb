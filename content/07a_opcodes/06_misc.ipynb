{
 "cells": [
  {
   "cell_type": "markdown",
   "id": "03255559",
   "metadata": {},
   "source": [
    "# Misc"
   ]
  },
  {
   "cell_type": "markdown",
   "id": "1fa2b79c",
   "metadata": {},
   "source": [
    "This one was hard to classify"
   ]
  },
  {
   "cell_type": "markdown",
   "id": "5a83e2c5",
   "metadata": {},
   "source": [
    "## Precompiles"
   ]
  },
  {
   "cell_type": "markdown",
   "id": "c35282b3",
   "metadata": {},
   "source": [
    "Precompiles in Ethereum are programs that the EVM can execute directly. They are currently 9 of them.\n",
    "\n",
    "Implementing these functions in EVM bytecode would be very gas inefficient. So it was decided to include them in the EVM itself."
   ]
  },
  {
   "cell_type": "markdown",
   "id": "bab834a0",
   "metadata": {},
   "source": [
    "![title](../../static/precompiles.png)"
   ]
  },
  {
   "cell_type": "markdown",
   "id": "61cbd5fe",
   "metadata": {},
   "source": [
    "[source](https://www.evm.codes/precompiled)"
   ]
  },
  {
   "cell_type": "markdown",
   "id": "df67ab16",
   "metadata": {},
   "source": [
    "## Opcode vs Precompile"
   ]
  },
  {
   "cell_type": "markdown",
   "id": "9b86e635",
   "metadata": {},
   "source": [
    "The `sha3` could have easily been a precompile. Weather an operation should be a opcode or a precomiple is a matter of debate in the Ethereum community."
   ]
  },
  {
   "cell_type": "markdown",
   "id": "46c90997",
   "metadata": {},
   "source": [
    "#### Hash Function"
   ]
  },
  {
   "cell_type": "markdown",
   "id": "59d14529",
   "metadata": {},
   "source": [
    "A hash function is one of the most important cryptographic primitives. It has the following characteristics:\n",
    "\n",
    "- fixed sized: every input (also called message) creates a hash value of fixed size.\n",
    "- deterministic: the same input will produce the same output every time.\n",
    "- one-way: its practically infeasible to invert.\n",
    "- chaotic: if only one bit changes the whole hash changes in a toatlly chaotic and random way."
   ]
  },
  {
   "cell_type": "markdown",
   "id": "b9bd4491",
   "metadata": {},
   "source": [
    "Note that we are using the Python built-in `hash` function, so we do not have to import any external library. \n",
    "\n",
    "The EVM uses the Keccak-256 function. "
   ]
  },
  {
   "cell_type": "code",
   "execution_count": 5,
   "id": "4c317dc4",
   "metadata": {},
   "outputs": [],
   "source": [
    "def sha3(evm):\n",
    "    offset, size = evm.stack.pop(), evm.stack.pop()\n",
    "    value = evm.memory.access(offset, size)\n",
    "    evm.stack.push(hash(str(value)))\n",
    "\n",
    "    evm.pc += 1\n",
    "\n",
    "    # calculate gas\n",
    "    minimum_word_size = (size + 31) // 32\n",
    "    dynamic_gas = 6 * minimum_word_size # TODO: + memory_expansion_cost\n",
    "    evm.gas_dec(30 + dynamic_gas)"
   ]
  }
 ],
 "metadata": {
  "kernelspec": {
   "display_name": "Python 3 (ipykernel)",
   "language": "python",
   "name": "python3"
  },
  "language_info": {
   "codemirror_mode": {
    "name": "ipython",
    "version": 3
   },
   "file_extension": ".py",
   "mimetype": "text/x-python",
   "name": "python",
   "nbconvert_exporter": "python",
   "pygments_lexer": "ipython3",
   "version": "3.8.9"
  }
 },
 "nbformat": 4,
 "nbformat_minor": 5
}
