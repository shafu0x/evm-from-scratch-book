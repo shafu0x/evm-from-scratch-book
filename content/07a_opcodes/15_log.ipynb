{
 "cells": [
  {
   "cell_type": "markdown",
   "id": "29145812",
   "metadata": {},
   "source": [
    "# Log"
   ]
  },
  {
   "cell_type": "markdown",
   "id": "3da0811b",
   "metadata": {},
   "source": [
    "Log an event"
   ]
  },
  {
   "cell_type": "code",
   "execution_count": null,
   "id": "e64eb222",
   "metadata": {
    "vscode": {
     "languageId": "rust"
    }
   },
   "outputs": [],
   "source": [
    "use std::fmt;\n",
    "\n",
    "pub struct Log {\n",
    "    pub data: Vec<u8>,\n",
    "    pub topic1: Option<Vec<u8>>,\n",
    "    pub topic2: Option<Vec<u8>>,\n",
    "    pub topic3: Option<Vec<u8>>,\n",
    "    pub topic4: Option<Vec<u8>>,\n",
    "}\n",
    "\n",
    "impl Log {\n",
    "    pub fn new(\n",
    "        data: Vec<u8>,\n",
    "        topic1: Option<Vec<u8>>,\n",
    "        topic2: Option<Vec<u8>>,\n",
    "        topic3: Option<Vec<u8>>,\n",
    "        topic4: Option<Vec<u8>>,\n",
    "    ) -> Self {\n",
    "        Self { data, topic1, topic2, topic3, topic4 }\n",
    "    }\n",
    "}\n",
    "\n",
    "impl fmt::Display for Log {\n",
    "    fn fmt(&self, f: &mut fmt::Formatter<'_>) -> fmt::Result {\n",
    "        write!(f, \"Log: {:?}\", self.data)\n",
    "    }\n",
    "}"
   ]
  },
  {
   "cell_type": "code",
   "execution_count": null,
   "id": "4d252a12",
   "metadata": {
    "vscode": {
     "languageId": "rust"
    }
   },
   "outputs": [],
   "source": [
    "pub fn calc_gas(topic_count: usize, size: usize, memory_expansion_cost: usize) -> usize {\n",
    "    // 375 - static_gas\n",
    "    375 * topic_count + 8 * size + memory_expansion_cost\n",
    "}"
   ]
  },
  {
   "cell_type": "code",
   "execution_count": null,
   "id": "0f387cf1",
   "metadata": {
    "vscode": {
     "languageId": "rust"
    }
   },
   "outputs": [],
   "source": [
    "pub fn log0(evm: &mut EVM) {\n",
    "    let offset = evm.stack.pop();\n",
    "    let size = evm.stack.pop();\n",
    "\n",
    "    let data = evm.memory.access(offset, size);\n",
    "    let log = Log::new(data, None, None, None, None);\n",
    "    evm.append_log(log);\n",
    "\n",
    "    evm.pc += 1;\n",
    "    evm.gas_dec(calc_gas(0, size)); // TODO: memory expansion cost\n",
    "}"
   ]
  },
  {
   "cell_type": "code",
   "execution_count": null,
   "id": "2cf8b1a5",
   "metadata": {
    "vscode": {
     "languageId": "rust"
    }
   },
   "outputs": [],
   "source": [
    "pub fn log1(evm: &mut EVM) {\n",
    "    let offset = evm.stack.pop();\n",
    "    let size = evm.stack.pop();\n",
    "    let topic = evm.stack.pop().value;\n",
    "\n",
    "    let data = evm.memory.access(offset, size);\n",
    "    let log = Log::new(data, Some(topic), None, None, None);\n",
    "    evm.append_log(log);\n",
    "\n",
    "    evm.pc += 1;\n",
    "    evm.gas_dec(calc_gas(1, size)); // TODO: memory expansion cost\n",
    "}"
   ]
  },
  {
   "cell_type": "code",
   "execution_count": null,
   "id": "b6bc3b7f",
   "metadata": {
    "vscode": {
     "languageId": "rust"
    }
   },
   "outputs": [],
   "source": [
    "pub fn log2(evm: &mut EVM) {\n",
    "    let offset = evm.stack.pop();\n",
    "    let size = evm.stack.pop();\n",
    "    let topic1 = evm.stack.pop();\n",
    "    let topic2 = evm.stack.pop();\n",
    "\n",
    "    let data = evm.memory.access(offset, size);\n",
    "    let log = Log::new(data, Some(topic1), Some(topic2), None, None);\n",
    "    evm.append_log(log);\n",
    "\n",
    "    evm.pc += 1;\n",
    "    evm.gas_dec(calc_gas(2, size)); // TODO: memory expansion cost\n",
    "}"
   ]
  },
  {
   "cell_type": "code",
   "execution_count": null,
   "id": "47084c53",
   "metadata": {
    "vscode": {
     "languageId": "rust"
    }
   },
   "outputs": [],
   "source": [
    "pub fn log3(evm: &mut EVM) {\n",
    "    let offset = evm.stack.pop();\n",
    "    let size = evm.stack.pop();\n",
    "    let topic1 = evm.stack.pop();\n",
    "    let topic2 = evm.stack.pop();\n",
    "    let topic3 = evm.stack.pop();\n",
    "\n",
    "    let data = evm.memory.access(offset, size);\n",
    "    let log = Log::new(data, Some(topic1), Some(topic2), Some(topic3), None);\n",
    "    evm.append_log(log);\n",
    "\n",
    "    evm.pc += 1;\n",
    "    evm.gas_dec(calc_gas(3, size)); // TODO: memory expansion cost\n",
    "}\n"
   ]
  },
  {
   "cell_type": "code",
   "execution_count": null,
   "id": "8332ffe1",
   "metadata": {
    "vscode": {
     "languageId": "rust"
    }
   },
   "outputs": [],
   "source": [
    "pub fn log4(evm: &mut EVM) {\n",
    "    let offset = evm.stack.pop();\n",
    "    let size = evm.stack.pop();\n",
    "    let topic1 = evm.stack.pop();\n",
    "    let topic2 = evm.stack.pop();\n",
    "    let topic3 = evm.stack.pop();\n",
    "    let topic4 = evm.stack.pop();\n",
    "\n",
    "    let data = evm.memory.access(offset, size);\n",
    "    let log = Log::new(data, Some(topic1), Some(topic2), Some(topic3), Some(topic4));\n",
    "    evm.append_log(log);\n",
    "\n",
    "    evm.pc += 1;\n",
    "    evm.gas_dec(calc_gas(4, size)); // TODO: memory expansion cost\n",
    "}"
   ]
  }
 ],
 "metadata": {
  "kernelspec": {
   "display_name": "Python 3 (ipykernel)",
   "language": "python",
   "name": "python3"
  },
  "language_info": {
   "codemirror_mode": {
    "name": "ipython",
    "version": 3
   },
   "file_extension": ".py",
   "mimetype": "text/x-python",
   "name": "python",
   "nbconvert_exporter": "python",
   "pygments_lexer": "ipython3",
   "version": "3.8.9"
  }
 },
 "nbformat": 4,
 "nbformat_minor": 5
}
