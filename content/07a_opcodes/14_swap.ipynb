{
 "cells": [
  {
   "cell_type": "markdown",
   "id": "1fa41948",
   "metadata": {},
   "source": [
    "# Swap"
   ]
  },
  {
   "cell_type": "markdown",
   "id": "d093dc72",
   "metadata": {},
   "source": [
    "Swap the top of the stack with another item on the stack given by `n`."
   ]
  },
  {
   "cell_type": "code",
   "execution_count": null,
   "id": "d0c26d81",
   "metadata": {
    "vscode": {
     "languageId": "rust"
    }
   },
   "outputs": [],
   "source": [
    "pub fn _swap(evm: &mut EVM, n: usize) {\n",
    "    let value1 = evm.stack.get(0);\n",
    "    let value2 = evm.stack.get(n + 1);\n",
    "    evm.stack.set(0, value2);\n",
    "    evm.stack.set(n + 1, value1);\n",
    "\n",
    "    evm.pc += 1;\n",
    "    evm.gas_dec(3);\n",
    "}"
   ]
  }
 ],
 "metadata": {
  "kernelspec": {
   "display_name": "Python 3 (ipykernel)",
   "language": "python",
   "name": "python3"
  },
  "language_info": {
   "codemirror_mode": {
    "name": "ipython",
    "version": 3
   },
   "file_extension": ".py",
   "mimetype": "text/x-python",
   "name": "python",
   "nbconvert_exporter": "python",
   "pygments_lexer": "ipython3",
   "version": "3.8.9"
  }
 },
 "nbformat": 4,
 "nbformat_minor": 5
}
