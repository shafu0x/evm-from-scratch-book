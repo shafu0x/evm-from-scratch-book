{
 "cells": [
  {
   "cell_type": "markdown",
   "id": "1fa41948",
   "metadata": {},
   "source": [
    "# Swap"
   ]
  },
  {
   "cell_type": "markdown",
   "id": "d093dc72",
   "metadata": {},
   "source": [
    "Swap the top of the stack with another item on the stack given by `n`."
   ]
  },
  {
   "cell_type": "code",
   "execution_count": null,
   "id": "d0c26d81",
   "metadata": {},
   "outputs": [],
   "source": [
    "def _swap(evm, n):\n",
    "    # swap top (index 0) with nth item from top (index n)\n",
    "    value1 = evm.stack.items[-1]       # top of stack\n",
    "    value2 = evm.stack.items[-(n+1)]   # nth item (1-based)\n",
    "\n",
    "    evm.stack.items[-1] = value2\n",
    "    evm.stack.items[-(n+1)] = value1\n",
    "\n",
    "    evm.pc += 1\n",
    "    evm.gas_dec(3)    "
   ]
  }
 ],
 "metadata": {
  "kernelspec": {
   "display_name": "Python 3 (ipykernel)",
   "language": "python",
   "name": "python3"
  },
  "language_info": {
   "codemirror_mode": {
    "name": "ipython",
    "version": 3
   },
   "file_extension": ".py",
   "mimetype": "text/x-python",
   "name": "python",
   "nbconvert_exporter": "python",
   "pygments_lexer": "ipython3",
   "version": "3.8.9"
  }
 },
 "nbformat": 4,
 "nbformat_minor": 5
}
