{
 "cells": [
  {
   "cell_type": "markdown",
   "id": "utils_title",
   "metadata": {},
   "source": [
    "# Utility Functions\n"
   ]
  },
  {
   "cell_type": "markdown",
   "id": "import_helper_desc",
   "metadata": {},
   "source": [
    "Helper function for importing notebooks cleanly without output.\n"
   ]
  },
  {
   "cell_type": "code",
   "execution_count": null,
   "id": "import_helper",
   "metadata": {
    "vscode": {
     "languageId": "rust"
    }
   },
   "outputs": [],
   "source": [
    "use std::process::{Command, Stdio};\n",
    "\n",
    "/// Import a list of notebooks silently\n",
    "fn import_notebooks(notebooks: &[&str]) {\n",
    "    for nb in notebooks {\n",
    "        // Try to run the notebook, ignoring any errors\n",
    "        let _ = Command::new(\"jupyter\")\n",
    "            .arg(\"nbconvert\")\n",
    "            .arg(\"--to\")\n",
    "            .arg(\"notebook\")\n",
    "            .arg(\"--execute\")\n",
    "            .arg(nb)\n",
    "            .arg(\"--stdout\") // we don’t capture output; just for structure\n",
    "            .stdout(Stdio::null()) // suppress stdout\n",
    "            .stderr(Stdio::null()) // suppress stderr\n",
    "            .status();\n",
    "    }\n",
    "}\n",
    "\n",
    "fn main() {\n",
    "    let notebooks = [\"08_evm.ipynb\", \"09_bytecode.ipynb\"];\n",
    "    import_notebooks(&notebooks);\n",
    "}\n"
   ]
  }
 ],
 "metadata": {
  "kernelspec": {
   "display_name": "Python 3 (ipykernel)",
   "language": "python",
   "name": "python3"
  },
  "language_info": {
   "codemirror_mode": {
    "name": "ipython",
    "version": 3
   },
   "file_extension": ".py",
   "mimetype": "text/x-python",
   "name": "python",
   "nbconvert_exporter": "python",
   "pygments_lexer": "ipython3",
   "version": "3.9.13"
  }
 },
 "nbformat": 4,
 "nbformat_minor": 5
}
