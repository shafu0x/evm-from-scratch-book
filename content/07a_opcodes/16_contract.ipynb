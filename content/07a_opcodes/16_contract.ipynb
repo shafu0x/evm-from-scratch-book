{
 "cells": [
  {
   "cell_type": "markdown",
   "id": "7fe01591",
   "metadata": {},
   "source": [
    "# Contract"
   ]
  },
  {
   "cell_type": "code",
   "execution_count": null,
   "id": "dbd20aa5",
   "metadata": {
    "vscode": {
     "languageId": "rust"
    }
   },
   "outputs": [],
   "source": [
    "pub fn revert(evm: &mut EVM) {\n",
    "    let offset = evm.stack.pop();\n",
    "    let size = evm.stack.pop();\n",
    "    evm.returndata = evm.memory.access(offset, size);\n",
    "\n",
    "    evm.stop_flag = true;\n",
    "    evm.revert_flag = true;\n",
    "    evm.pc += 1;\n",
    "    evm.gas_dec(0);\n",
    "}"
   ]
  }
 ],
 "metadata": {
  "kernelspec": {
   "display_name": "Python 3 (ipykernel)",
   "language": "python",
   "name": "python3"
  },
  "language_info": {
   "codemirror_mode": {
    "name": "ipython",
    "version": 3
   },
   "file_extension": ".py",
   "mimetype": "text/x-python",
   "name": "python",
   "nbconvert_exporter": "python",
   "pygments_lexer": "ipython3",
   "version": "3.8.9"
  }
 },
 "nbformat": 4,
 "nbformat_minor": 5
}
