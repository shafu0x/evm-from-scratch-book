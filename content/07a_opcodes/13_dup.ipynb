{
 "cells": [
  {
   "cell_type": "markdown",
   "id": "521c8248",
   "metadata": {},
   "source": [
    "# Dup"
   ]
  },
  {
   "cell_type": "markdown",
   "id": "e089aae4",
   "metadata": {},
   "source": [
    "Duplicate a stack item by putting it on top of the stack."
   ]
  },
  {
   "cell_type": "code",
   "execution_count": null,
   "id": "bbba6da5",
   "metadata": {
    "vscode": {
     "languageId": "rust"
    }
   },
   "outputs": [],
   "source": [
    "pub fn _dup(evm: &mut EVM, n: usize) {\n",
    "    // make sure stack is big enough!\n",
    "    let value = evm.stack[n];\n",
    "    evm.stack.push(value);\n",
    "\n",
    "    evm.pc += 1;\n",
    "    evm.gas_dec(3);\n",
    "}"
   ]
  }
 ],
 "metadata": {
  "kernelspec": {
   "display_name": "Python 3 (ipykernel)",
   "language": "python",
   "name": "python3"
  },
  "language_info": {
   "codemirror_mode": {
    "name": "ipython",
    "version": 3
   },
   "file_extension": ".py",
   "mimetype": "text/x-python",
   "name": "python",
   "nbconvert_exporter": "python",
   "pygments_lexer": "ipython3",
   "version": "3.8.9"
  }
 },
 "nbformat": 4,
 "nbformat_minor": 5
}
