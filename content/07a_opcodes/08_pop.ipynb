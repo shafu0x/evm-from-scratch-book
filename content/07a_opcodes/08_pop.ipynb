{
 "cells": [
  {
   "cell_type": "markdown",
   "id": "e447bb8b",
   "metadata": {},
   "source": [
    "# Pop"
   ]
  },
  {
   "cell_type": "markdown",
   "id": "9c879de0",
   "metadata": {},
   "source": [
    "Pops an the first item off the stack."
   ]
  },
  {
   "cell_type": "code",
   "execution_count": null,
   "id": "c6946ddc",
   "metadata": {
    "vscode": {
     "languageId": "rust"
    }
   },
   "outputs": [],
   "source": [
    "pub fn _pop(evm: &mut EVM) {\n",
    "    evm.pc += 2;\n",
    "    evm.gas_dec(2);\n",
    "    evm.stack.pop(0);\n",
    "}"
   ]
  }
 ],
 "metadata": {
  "kernelspec": {
   "display_name": "Python 3 (ipykernel)",
   "language": "python",
   "name": "python3"
  },
  "language_info": {
   "codemirror_mode": {
    "name": "ipython",
    "version": 3
   },
   "file_extension": ".py",
   "mimetype": "text/x-python",
   "name": "python",
   "nbconvert_exporter": "python",
   "pygments_lexer": "ipython3",
   "version": "3.8.9"
  }
 },
 "nbformat": 4,
 "nbformat_minor": 5
}
