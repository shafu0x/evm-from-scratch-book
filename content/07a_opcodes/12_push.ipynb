{
 "cells": [
  {
   "cell_type": "markdown",
   "id": "a3456fcb",
   "metadata": {},
   "source": [
    "# Push"
   ]
  },
  {
   "cell_type": "markdown",
   "id": "a6df5a45",
   "metadata": {},
   "source": [
    "Push items to the EVM stack."
   ]
  },
  {
   "cell_type": "code",
   "execution_count": null,
   "id": "b80b0357",
   "metadata": {
    "vscode": {
     "languageId": "rust"
    }
   },
   "outputs": [],
   "source": [
    "pub fn _push(evm: &mut EVM, n: usize) {\n",
    "    evm.pc += 1;\n",
    "    evm.gas_dec(3);\n",
    "\n",
    "    let mut value = Vec::new();\n",
    "    for _ in 0..n {\n",
    "        value.push(evm.peek());\n",
    "        evm.pc += 1;\n",
    "    }\n",
    "    let value_int = value.iter().fold(0, |acc, &x| acc * 10 + x as usize);\n",
    "    evm.stack.push(value_int);\n",
    "}"
   ]
  }
 ],
 "metadata": {
  "kernelspec": {
   "display_name": "Python 3 (ipykernel)",
   "language": "python",
   "name": "python3"
  },
  "language_info": {
   "codemirror_mode": {
    "name": "ipython",
    "version": 3
   },
   "file_extension": ".py",
   "mimetype": "text/x-python",
   "name": "python",
   "nbconvert_exporter": "python",
   "pygments_lexer": "ipython3",
   "version": "3.8.9"
  }
 },
 "nbformat": 4,
 "nbformat_minor": 5
}
