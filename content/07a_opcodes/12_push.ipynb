{
 "cells": [
  {
   "cell_type": "markdown",
   "id": "a3456fcb",
   "metadata": {},
   "source": [
    "# Push"
   ]
  },
  {
   "cell_type": "markdown",
   "id": "a6df5a45",
   "metadata": {},
   "source": [
    "Push items to the EVM stack."
   ]
  },
  {
   "cell_type": "code",
   "execution_count": 6,
   "id": "b80b0357",
   "metadata": {},
   "outputs": [],
   "source": [
    "def _push(evm, n):\n",
    "    evm.pc += 1                 \n",
    "    evm.gas_dec(3)\n",
    "\n",
    "    value = 0\n",
    "    for _ in range(n):\n",
    "        value = (value << 8) | evm.peek()\n",
    "        evm.pc += 1\n",
    "\n",
    "    evm.stack.push(value % MOD) # enforce 256-bit wraparound"
   ]
  }
 ],
 "metadata": {
  "kernelspec": {
   "display_name": "Python 3 (ipykernel)",
   "language": "python",
   "name": "python3"
  },
  "language_info": {
   "codemirror_mode": {
    "name": "ipython",
    "version": 3
   },
   "file_extension": ".py",
   "mimetype": "text/x-python",
   "name": "python",
   "nbconvert_exporter": "python",
   "pygments_lexer": "ipython3",
   "version": "3.8.9"
  }
 },
 "nbformat": 4,
 "nbformat_minor": 5
}
