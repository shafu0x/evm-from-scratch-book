{
 "cells": [
  {
   "cell_type": "markdown",
   "id": "32d03134",
   "metadata": {},
   "source": [
    "## Stop"
   ]
  },
  {
   "cell_type": "markdown",
   "id": "896304a5",
   "metadata": {},
   "source": [
    "Our first opcode! Stop is a very simple. All it does is it halts execution by setting the `stop_flag` to `True`."
   ]
  },
  {
   "cell_type": "code",
   "execution_count": null,
   "id": "4409f5b8",
   "metadata": {
    "vscode": {
     "languageId": "rust"
    }
   },
   "outputs": [],
   "source": [
    "pub fn stop(evm: &mut EVM) {\n",
    "    evm.stop_flag = true;\n",
    "}"
   ]
  }
 ],
 "metadata": {
  "kernelspec": {
   "display_name": "Python 3 (ipykernel)",
   "language": "python",
   "name": "python3"
  },
  "language_info": {
   "codemirror_mode": {
    "name": "ipython",
    "version": 3
   },
   "file_extension": ".py",
   "mimetype": "text/x-python",
   "name": "python",
   "nbconvert_exporter": "python",
   "pygments_lexer": "ipython3",
   "version": "3.8.9"
  }
 },
 "nbformat": 4,
 "nbformat_minor": 5
}
