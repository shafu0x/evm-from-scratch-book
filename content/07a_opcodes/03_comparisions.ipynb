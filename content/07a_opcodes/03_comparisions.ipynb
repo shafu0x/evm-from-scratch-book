{
 "cells": [
  {
   "cell_type": "code",
   "execution_count": null,
   "id": "2d075d2b",
   "metadata": {
    "vscode": {
     "languageId": "rust"
    }
   },
   "outputs": [],
   "source": [
    "mod utils;\n",
    "use utils::*;"
   ]
  },
  {
   "cell_type": "markdown",
   "id": "1bf359dc",
   "metadata": {},
   "source": [
    "# Comparisons"
   ]
  },
  {
   "cell_type": "markdown",
   "id": "7253af6f",
   "metadata": {},
   "source": [
    "Very similar to the arithmetic opcodes. But rather than adding or subtracting values we compare them."
   ]
  },
  {
   "cell_type": "markdown",
   "id": "a5612231",
   "metadata": {},
   "source": [
    "#### Less than"
   ]
  },
  {
   "cell_type": "code",
   "execution_count": null,
   "id": "a222fba0",
   "metadata": {
    "vscode": {
     "languageId": "rust"
    }
   },
   "outputs": [],
   "source": [
    "pub fn lt(evm: &mut Evm) {\n",
    "    let a = evm.stack.pop();\n",
    "    let b = evm.stack.pop();\n",
    "    let result = if a < b { 1 } else { 0 };\n",
    "    evm.stack.push(result);\n",
    "    evm.pc += 1;\n",
    "    evm.gas_dec(3);\n",
    "}"
   ]
  },
  {
   "cell_type": "markdown",
   "id": "0d96a314",
   "metadata": {},
   "source": [
    "#### Signed Less than"
   ]
  },
  {
   "cell_type": "code",
   "execution_count": null,
   "id": "e626f7af",
   "metadata": {
    "vscode": {
     "languageId": "rust"
    }
   },
   "outputs": [],
   "source": [
    "pub fn lt(evm: &mut EVM) {\n",
    "    let b = evm.stack.pop();\n",
    "    let a = evm.stack.pop();\n",
    "\n",
    "    if a < b {\n",
    "        evm.stack.push(1);\n",
    "    } else {\n",
    "        evm.stack.push(0);\n",
    "    }\n",
    "\n",
    "    evm.pc += 1;\n",
    "    evm.gas_dec(3);\n",
    "}"
   ]
  },
  {
   "cell_type": "markdown",
   "id": "83a96c2f",
   "metadata": {},
   "source": [
    "#### Greater than"
   ]
  },
  {
   "cell_type": "code",
   "execution_count": null,
   "id": "cd80ba41",
   "metadata": {
    "vscode": {
     "languageId": "rust"
    }
   },
   "outputs": [],
   "source": [
    "pub fn gt(evm: &mut EVM) {\n",
    "    let a = evm.stack.pop().expect(\"Stack underflow\");\n",
    "    let b = evm.stack.pop().expect(\"Stack underflow\");\n",
    "    evm.stack.push(if a > b { 1 } else { 0 });\n",
    "    evm.pc += 1;\n",
    "    evm.gas_dec(3);\n",
    "}"
   ]
  },
  {
   "cell_type": "markdown",
   "id": "c58b9332",
   "metadata": {},
   "source": [
    "#### Signed Greater than"
   ]
  },
  {
   "cell_type": "code",
   "execution_count": null,
   "id": "8d564d7d",
   "metadata": {
    "vscode": {
     "languageId": "rust"
    }
   },
   "outputs": [],
   "source": [
    "pub fn sgt(evm: &mut Evm) {\n",
    "    let a = evm.stack.pop();\n",
    "    let b = evm.stack.pop();\n",
    "\n",
    "    let a_signed = unsigned_to_signed(a);\n",
    "    let b_signed = unsigned_to_signed(b);\n",
    "\n",
    "    let result = if a_signed > b_signed { 1 } else { 0 };\n",
    "    evm.stack.push(result);\n",
    "    evm.pc += 1;\n",
    "    evm.gas_dec(3);\n",
    "}"
   ]
  },
  {
   "cell_type": "markdown",
   "id": "101de0f3",
   "metadata": {},
   "source": [
    "#### Equal"
   ]
  },
  {
   "cell_type": "code",
   "execution_count": null,
   "id": "311a0d2a",
   "metadata": {
    "vscode": {
     "languageId": "rust"
    }
   },
   "outputs": [],
   "source": [
    "pub pub fn eq(evm: &mut Evm) {\n",
    "    let a = evm.stack.pop();\n",
    "    let b = evm.stack.pop();\n",
    "    evm.stack.push(if a == b { 1 } else { 0 });\n",
    "    evm.pc += 1;\n",
    "    evm.gas_dec(3);\n",
    "}"
   ]
  },
  {
   "cell_type": "markdown",
   "id": "24e94e14",
   "metadata": {},
   "source": [
    "#### Is Zero"
   ]
  },
  {
   "cell_type": "code",
   "execution_count": null,
   "id": "9ac8ac44",
   "metadata": {
    "vscode": {
     "languageId": "rust"
    }
   },
   "outputs": [],
   "source": [
    "pub fn iszero(evm: &mut Evm) {\n",
    "    let a = evm.stack.pop();\n",
    "    evm.stack.push(if a == 0 { 1 } else { 0 });\n",
    "    evm.pc += 1;\n",
    "    evm.gas_dec(3);\n",
    "}"
   ]
  }
 ],
 "metadata": {
  "kernelspec": {
   "display_name": "Python 3 (ipykernel)",
   "language": "python",
   "name": "python3"
  },
  "language_info": {
   "codemirror_mode": {
    "name": "ipython",
    "version": 3
   },
   "file_extension": ".py",
   "mimetype": "text/x-python",
   "name": "python",
   "nbconvert_exporter": "python",
   "pygments_lexer": "ipython3",
   "version": "3.8.9"
  }
 },
 "nbformat": 4,
 "nbformat_minor": 5
}
