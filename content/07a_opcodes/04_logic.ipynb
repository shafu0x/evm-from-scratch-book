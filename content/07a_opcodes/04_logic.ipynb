{
 "cells": [
  {
   "cell_type": "markdown",
   "id": "d9c52e04",
   "metadata": {},
   "source": [
    "# Logic"
   ]
  },
  {
   "cell_type": "markdown",
   "id": "c0d9f8f4",
   "metadata": {},
   "source": [
    "You are very familiar with this now. Same concept, different operations."
   ]
  },
  {
   "cell_type": "markdown",
   "id": "08c1bffd",
   "metadata": {},
   "source": [
    "#### And"
   ]
  },
  {
   "cell_type": "code",
   "execution_count": null,
   "id": "68766f90",
   "metadata": {
    "vscode": {
     "languageId": "rust"
    }
   },
   "outputs": [],
   "source": [
    "pub fn op_and(evm: &mut Evm) {\n",
    "    let b = evm.stack.pop();\n",
    "    let a = evm.stack.pop();\n",
    "    evm.stack.push(a & b);\n",
    "    evm.pc += 1;\n",
    "    evm.gas_dec(3);\n",
    "}"
   ]
  },
  {
   "cell_type": "markdown",
   "id": "d1198500",
   "metadata": {},
   "source": [
    "#### Or"
   ]
  },
  {
   "cell_type": "code",
   "execution_count": null,
   "id": "9a909b61",
   "metadata": {
    "vscode": {
     "languageId": "rust"
    }
   },
   "outputs": [],
   "source": [
    "pub fn op_or(evm: &mut Evm) {\n",
    "    let a = evm.stack.pop();\n",
    "    let b = evm.stack.pop();\n",
    "    evm.stack.push(a | b);\n",
    "    evm.pc += 1;\n",
    "    evm.gas_dec(3);\n",
    "}"
   ]
  },
  {
   "cell_type": "markdown",
   "id": "c22ed407",
   "metadata": {},
   "source": [
    "#### Xor"
   ]
  },
  {
   "cell_type": "code",
   "execution_count": null,
   "id": "c95f5b28",
   "metadata": {
    "vscode": {
     "languageId": "rust"
    }
   },
   "outputs": [],
   "source": [
    "pub fn op_xor(evm: &mut Evm) {\n",
    "    let a = evm.stack.pop();\n",
    "    let b = evm.stack.pop();\n",
    "    evm.stack.push(a ^ b);\n",
    "    evm.pc += 1;\n",
    "    evm.gas_dec(3);\n",
    "}"
   ]
  },
  {
   "cell_type": "markdown",
   "id": "8d004584",
   "metadata": {},
   "source": [
    "#### Not"
   ]
  },
  {
   "cell_type": "code",
   "execution_count": null,
   "id": "b4592b76",
   "metadata": {
    "vscode": {
     "languageId": "rust"
    }
   },
   "outputs": [],
   "source": [
    "pub fn op_not(evm: &mut Evm) {\n",
    "    let a = evm.stack.pop();\n",
    "    evm.stack.push(!a);\n",
    "    evm.pc += 1;\n",
    "    evm.gas_dec(3);\n",
    "}"
   ]
  }
 ],
 "metadata": {
  "kernelspec": {
   "display_name": "Python 3 (ipykernel)",
   "language": "python",
   "name": "python3"
  },
  "language_info": {
   "codemirror_mode": {
    "name": "ipython",
    "version": 3
   },
   "file_extension": ".py",
   "mimetype": "text/x-python",
   "name": "python",
   "nbconvert_exporter": "python",
   "pygments_lexer": "ipython3",
   "version": "3.8.9"
  }
 },
 "nbformat": 4,
 "nbformat_minor": 5
}
