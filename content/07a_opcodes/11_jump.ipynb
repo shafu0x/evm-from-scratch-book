{
 "cells": [
  {
   "cell_type": "code",
   "execution_count": 1,
   "id": "1918e1c6",
   "metadata": {},
   "outputs": [],
   "source": [
    "%run utils.ipynb\n",
    "\n",
    "import_notebooks([\"../07_opcodes.ipynb\"])\n"
   ]
  },
  {
   "cell_type": "markdown",
   "id": "f49fc3a0",
   "metadata": {},
   "source": [
    "# Jump"
   ]
  },
  {
   "cell_type": "code",
   "execution_count": 3,
   "id": "bb5677c7",
   "metadata": {},
   "outputs": [],
   "source": [
    "def jump(evm):\n",
    "    counter = evm.stack.pop()\n",
    "\n",
    "    # make sure that we jump to an JUMPDEST opcode\n",
    "    if not evm.program[counter] == JUMPDEST:\n",
    "        raise Exception(\"Can only jump to JUMPDEST\")\n",
    "\n",
    "    evm.pc = counter\n",
    "    evm.gas_dec(8)"
   ]
  },
  {
   "cell_type": "code",
   "execution_count": 4,
   "id": "d8d64ef0",
   "metadata": {},
   "outputs": [],
   "source": [
    "def jumpi(evm):\n",
    "    counter, b = evm.stack.pop(), evm.stack.pop()\n",
    "\n",
    "    if b != 0: evm.pc = counter\n",
    "    else     : evm.pc += 1\n",
    "    \n",
    "    evm.gas_dec(10)"
   ]
  },
  {
   "cell_type": "code",
   "execution_count": 5,
   "id": "8c881ffe",
   "metadata": {},
   "outputs": [],
   "source": [
    "def pc(evm):\n",
    "    evm.stack.push(cpu.pc)\n",
    "    evm.pc += 1\n",
    "    evm.gas_dec(2)"
   ]
  },
  {
   "cell_type": "code",
   "execution_count": 6,
   "id": "4619b73f",
   "metadata": {},
   "outputs": [],
   "source": [
    "def jumpdest(evm):\n",
    "    evm.pc += 1\n",
    "    evm.gas_dec(1)"
   ]
  }
 ],
 "metadata": {
  "kernelspec": {
   "display_name": "Python 3 (ipykernel)",
   "language": "python",
   "name": "python3"
  },
  "language_info": {
   "codemirror_mode": {
    "name": "ipython",
    "version": 3
   },
   "file_extension": ".py",
   "mimetype": "text/x-python",
   "name": "python",
   "nbconvert_exporter": "python",
   "pygments_lexer": "ipython3",
   "version": "3.9.6"
  }
 },
 "nbformat": 4,
 "nbformat_minor": 5
}
