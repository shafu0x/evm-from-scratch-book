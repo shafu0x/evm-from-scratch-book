{
 "cells": [
  {
   "cell_type": "code",
   "execution_count": null,
   "id": "1918e1c6",
   "metadata": {
    "vscode": {
     "languageId": "rust"
    }
   },
   "outputs": [],
   "source": [
    "use utils::*;\n",
    "use opcodes_07::*;\n"
   ]
  },
  {
   "cell_type": "markdown",
   "id": "f49fc3a0",
   "metadata": {},
   "source": [
    "# Jump"
   ]
  },
  {
   "cell_type": "code",
   "execution_count": null,
   "id": "bb5677c7",
   "metadata": {
    "vscode": {
     "languageId": "rust"
    }
   },
   "outputs": [],
   "source": [
    "pub fn jump(evm: &mut EVM) {\n",
    "    let counter = evm.stack.pop();\n",
    "\n",
    "    // make sure that we jump to a JUMPDEST opcode\n",
    "    if evm.program[counter] != JUMPDEST {\n",
    "        panic!(\"Can only jump to JUMPDEST\");\n",
    "    }\n",
    "\n",
    "    evm.pc = counter;\n",
    "    evm.gas_dec(8);\n",
    "}"
   ]
  },
  {
   "cell_type": "code",
   "execution_count": null,
   "id": "d8d64ef0",
   "metadata": {
    "vscode": {
     "languageId": "rust"
    }
   },
   "outputs": [],
   "source": [
    "pub fn jumpi(evm: &mut EVM) {\n",
    "    let counter = evm.stack.pop();\n",
    "    let b = evm.stack.pop();\n",
    "\n",
    "    if b != 0 {\n",
    "        evm.pc = counter;\n",
    "    } else {\n",
    "        evm.pc += 1;\n",
    "    }\n",
    "\n",
    "    evm.gas_dec(10);\n",
    "}"
   ]
  },
  {
   "cell_type": "code",
   "execution_count": null,
   "id": "8c881ffe",
   "metadata": {
    "vscode": {
     "languageId": "rust"
    }
   },
   "outputs": [],
   "source": [
    "pub fn pc(evm: &mut EVM) {\n",
    "    evm.stack.push(evm.pc);\n",
    "    evm.pc += 1;\n",
    "    evm.gas_dec(2);\n",
    "}"
   ]
  },
  {
   "cell_type": "code",
   "execution_count": null,
   "id": "4619b73f",
   "metadata": {
    "vscode": {
     "languageId": "rust"
    }
   },
   "outputs": [],
   "source": [
    "pub fn jumpdest(evm: &mut EVM) {\n",
    "    evm.pc += 1;\n",
    "    evm.gas_dec(1);\n",
    "}"
   ]
  }
 ],
 "metadata": {
  "kernelspec": {
   "display_name": "Python 3 (ipykernel)",
   "language": "python",
   "name": "python3"
  },
  "language_info": {
   "codemirror_mode": {
    "name": "ipython",
    "version": 3
   },
   "file_extension": ".py",
   "mimetype": "text/x-python",
   "name": "python",
   "nbconvert_exporter": "python",
   "pygments_lexer": "ipython3",
   "version": "3.9.6"
  }
 },
 "nbformat": 4,
 "nbformat_minor": 5
}
