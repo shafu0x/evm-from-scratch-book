{
 "cells": [
  {
   "cell_type": "markdown",
   "id": "9e99987a",
   "metadata": {},
   "source": [
    "# Transient Storage"
   ]
  },
  {
   "cell_type": "markdown",
   "id": "b1506617",
   "metadata": {},
   "source": [
    "These opcodes behave almost identically to storage but changes are discarded after every transaction."
   ]
  },
  {
   "cell_type": "markdown",
   "id": "8fedcd8d",
   "metadata": {},
   "source": [
    "We will declare separate class for transient storage. The reason is that we need to clear the storage after the transaction is done by evm."
   ]
  },
  {
   "cell_type": "code",
   "execution_count": null,
   "id": "8f923f35",
   "metadata": {},
   "outputs": [],
   "source": [
    "class KeyValue:\n",
    "    def __init__(self):\n",
    "        self.storage={}\n",
    "\n",
    "    def load(self,key):\n",
    "        return self.storage[key]\n",
    "    \n",
    "    def store(self,key,value):\n",
    "        self.storage[key]=value\n",
    "\n",
    "\n",
    "class TStorage(KeyValue):\n",
    "    def __init__(self):\n",
    "        super().__init__()\n",
    "        self.cache = []  # warm set \n",
    "\n",
    "    def load(self, key):\n",
    "        warm = key in self.cache\n",
    "        if not warm: self.cache.append(key)\n",
    "        if key not in self.storage:return warm, 0x00\n",
    "        return warm, super().load(key)\n",
    "\n",
    "    def store(self, key, value):\n",
    "        warm = key in self.cache\n",
    "        if not warm:\n",
    "            self.cache.append(key)\n",
    "        self.storage[key] = value\n",
    "        return warm\n",
    "\n",
    "    def reset(self):\n",
    "        # wipe I have done to clear at the end of transaction\n",
    "        self.storage.clear()\n",
    "        self.cache.clear()\n",
    "\n"
   ]
  },
  {
   "cell_type": "markdown",
   "id": "3027a9a9",
   "metadata": {},
   "source": [
    "#### Transient Storage Load"
   ]
  },
  {
   "cell_type": "code",
   "execution_count": 4,
   "id": "b0010cdd",
   "metadata": {},
   "outputs": [],
   "source": [
    "def tload(evm):\n",
    "    key = evm.stack.pop()\n",
    "    warm, value = evm.tstorage.load(key)  \n",
    "    evm.stack.push(value)\n",
    "\n",
    "  \n",
    "    evm.gas_dec(100 if warm else 2100)\n",
    "\n",
    "    evm.pc += 1"
   ]
  },
  {
   "cell_type": "markdown",
   "id": "1a2422b7",
   "metadata": {},
   "source": [
    "#### Transient Storage Store"
   ]
  },
  {
   "cell_type": "code",
   "execution_count": 3,
   "id": "c7032489",
   "metadata": {},
   "outputs": [],
   "source": [
    "def tstore(evm): \n",
    "    key, value = evm.stack.pop(), evm.stack.pop()\n",
    "    warm = evm.tstorage.store(key, value)\n",
    "    evm.gas_dec(100 if warm else 2100)\n",
    "\n",
    "    evm.pc += 1"
   ]
  }
 ],
 "metadata": {
  "kernelspec": {
   "display_name": "Python 3 (ipykernel)",
   "language": "python",
   "name": "python3"
  },
  "language_info": {
   "codemirror_mode": {
    "name": "ipython",
    "version": 3
   },
   "file_extension": ".py",
   "mimetype": "text/x-python",
   "name": "python",
   "nbconvert_exporter": "python",
   "pygments_lexer": "ipython3",
   "version": "3.8.9"
  }
 },
 "nbformat": 4,
 "nbformat_minor": 5
}
