{
 "cells": [
  {
   "cell_type": "markdown",
   "id": "9e99987a",
   "metadata": {},
   "source": [
    "# Transient Storage"
   ]
  },
  {
   "cell_type": "markdown",
   "id": "b1506617",
   "metadata": {},
   "source": [
    "These opcodes behave almostidentically to storage but changes are discarded after every transaction."
   ]
  },
  {
   "cell_type": "markdown",
   "id": "3027a9a9",
   "metadata": {},
   "source": [
    "#### Transient Storage Load"
   ]
  },
  {
   "cell_type": "code",
   "execution_count": null,
   "id": "b0010cdd",
   "metadata": {
    "vscode": {
     "languageId": "rust"
    }
   },
   "outputs": [],
   "source": [
    "pub fn tload(evm: &mut EVM) {\n",
    "    let key = evm.stack.pop().value;\n",
    "    let (warm, value) = evm.storage.load(key);\n",
    "    evm.stack.push(value);\n",
    "\n",
    "    evm.gas_dec(100);\n",
    "    evm.pc += 1;\n",
    "}"
   ]
  },
  {
   "cell_type": "markdown",
   "id": "1a2422b7",
   "metadata": {},
   "source": [
    "#### Transient Storage Store"
   ]
  },
  {
   "cell_type": "code",
   "execution_count": null,
   "id": "c7032489",
   "metadata": {
    "vscode": {
     "languageId": "rust"
    }
   },
   "outputs": [],
   "source": [
    "pub fn tstore(evm: &mut EVM) {\n",
    "    let key = evm.stack.pop();\n",
    "    let value = evm.stack.pop();\n",
    "    evm.storage.store(key, value);\n",
    "\n",
    "    evm.gas_dec(100);\n",
    "    evm.pc += 1;\n",
    "}"
   ]
  }
 ],
 "metadata": {
  "kernelspec": {
   "display_name": "Python 3 (ipykernel)",
   "language": "python",
   "name": "python3"
  },
  "language_info": {
   "codemirror_mode": {
    "name": "ipython",
    "version": 3
   },
   "file_extension": ".py",
   "mimetype": "text/x-python",
   "name": "python",
   "nbconvert_exporter": "python",
   "pygments_lexer": "ipython3",
   "version": "3.8.9"
  }
 },
 "nbformat": 4,
 "nbformat_minor": 5
}
