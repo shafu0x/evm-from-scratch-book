{
 "cells": [
  {
   "cell_type": "code",
   "execution_count": 10,
   "id": "95b550aa",
   "metadata": {},
   "outputs": [],
   "source": [
    "%run utils.ipynb\n",
    "\n",
    "import_notebooks([\"utils.ipynb\"])\n"
   ]
  },
  {
   "cell_type": "markdown",
   "id": "a809800a",
   "metadata": {},
   "source": [
    "# Bit"
   ]
  },
  {
   "cell_type": "markdown",
   "id": "1530d6d5",
   "metadata": {},
   "source": [
    "Again, same concept but for bit operations."
   ]
  },
  {
   "cell_type": "markdown",
   "id": "01e1ac2e",
   "metadata": {},
   "source": [
    "#### Byte"
   ]
  },
  {
   "cell_type": "markdown",
   "id": "6b6227a2",
   "metadata": {},
   "source": [
    "Get one byte from a word (32 bytes)"
   ]
  },
  {
   "cell_type": "code",
   "execution_count": 11,
   "id": "444c69ad",
   "metadata": {},
   "outputs": [],
   "source": [
    "def byte(evm):\n",
    "    i, x = evm.stack.pop(), evm.stack.pop()\n",
    "    if i >= 32: result = 0\n",
    "    else      : result = (x // pow(256, 31 - i)) % 256\n",
    "    evm.stack.push(result)\n",
    "    evm.pc += 1\n",
    "    evm.gas_dec(3)"
   ]
  },
  {
   "cell_type": "markdown",
   "id": "5b300560",
   "metadata": {},
   "source": [
    "## Bit shifts"
   ]
  },
  {
   "cell_type": "markdown",
   "id": "d6e4bc31",
   "metadata": {},
   "source": [
    "Let's see what a bit shift operation looks like"
   ]
  },
  {
   "cell_type": "code",
   "execution_count": 13,
   "id": "df3b7125",
   "metadata": {},
   "outputs": [
    {
     "data": {
      "text/plain": [
       "'0b10110'"
      ]
     },
     "execution_count": 13,
     "metadata": {},
     "output_type": "execute_result"
    }
   ],
   "source": [
    "bin(22) # binary of 22"
   ]
  },
  {
   "cell_type": "code",
   "execution_count": 14,
   "id": "a53d8eb3",
   "metadata": {},
   "outputs": [
    {
     "data": {
      "text/plain": [
       "'0b1011000'"
      ]
     },
     "execution_count": 14,
     "metadata": {},
     "output_type": "execute_result"
    }
   ],
   "source": [
    "bin(22 << 2) # bit shift by 2 to the left"
   ]
  },
  {
   "cell_type": "code",
   "execution_count": 15,
   "id": "07ef38cc",
   "metadata": {},
   "outputs": [
    {
     "data": {
      "text/plain": [
       "'0b101'"
      ]
     },
     "execution_count": 15,
     "metadata": {},
     "output_type": "execute_result"
    }
   ],
   "source": [
    "bin(22 >> 2) # bit shift by 2 to the right"
   ]
  },
  {
   "cell_type": "markdown",
   "id": "63e6072a",
   "metadata": {},
   "source": [
    "#### Bit Shift left"
   ]
  },
  {
   "cell_type": "markdown",
   "id": "8f7b1248",
   "metadata": {},
   "source": [
    "`1010` bit shifted left by `2` positions becomes `101000`"
   ]
  },
  {
   "cell_type": "code",
   "execution_count": null,
   "id": "7c02c981",
   "metadata": {},
   "outputs": [],
   "source": [
    "MOD = 2**256\n",
    "\n",
    "def shl(evm): \n",
    "    shift, value = evm.stack.pop(), evm.stack.pop()\n",
    "    if shift >= 256:\n",
    "        result = 0 #if shift more than 256 result will be zero as it will become 0000...256 times=0\n",
    "    else:\n",
    "        result = (value << shift) % MOD  #without mod very large integer can be produced\n",
    "    evm.stack.push(result)\n",
    "    evm.pc += 1\n",
    "    evm.gas_dec(3)"
   ]
  },
  {
   "cell_type": "markdown",
   "id": "0177d01b",
   "metadata": {},
   "source": [
    "#### Bit Shift right"
   ]
  },
  {
   "cell_type": "markdown",
   "id": "2f549a05",
   "metadata": {},
   "source": [
    "`1010` bit shifted left by `2` positions becomes `10`"
   ]
  },
  {
   "cell_type": "code",
   "execution_count": 13,
   "id": "2089a68a",
   "metadata": {},
   "outputs": [],
   "source": [
    "def shr(evm):\n",
    "    shift, value = evm.stack.pop(), evm.stack.pop()\n",
    "    if shift >= 256: \n",
    "        result = 0 #same like shl\n",
    "    else:\n",
    "        result = value >> shift\n",
    "    evm.stack.push(result)\n",
    "    evm.pc += 1\n",
    "    evm.gas_dec(3)\n"
   ]
  },
  {
   "cell_type": "markdown",
   "id": "b7f6579f",
   "metadata": {},
   "source": [
    "#### Signed Shift right"
   ]
  },
  {
   "cell_type": "markdown",
   "id": "c8bcc749",
   "metadata": {},
   "source": [
    "For positives, SAR behaves like SHR.\n",
    "\n",
    "For negatives, SAR keeps the sign by filling 1s on the left"
   ]
  },
  {
   "cell_type": "code",
   "execution_count": 14,
   "id": "e23f78a5",
   "metadata": {},
   "outputs": [],
   "source": [
    "def sar(evm):\n",
    "    shift, value = evm.stack.pop(), evm.stack.pop()\n",
    "    signed_val = to_signed(value)   # interpret as signed\n",
    "\n",
    "    if shift >= 256:\n",
    "        result = 0 if signed_val >= 0 else -1\n",
    "    else:\n",
    "        result = signed_val >> shift   \n",
    "    \n",
    "    evm.stack.push(to_unsigned(result))\n",
    "    evm.pc += 1\n",
    "    evm.gas_dec(3)"
   ]
  }
 ],
 "metadata": {
  "kernelspec": {
   "display_name": "Python 3 (ipykernel)",
   "language": "python",
   "name": "python3"
  },
  "language_info": {
   "codemirror_mode": {
    "name": "ipython",
    "version": 3
   },
   "file_extension": ".py",
   "mimetype": "text/x-python",
   "name": "python",
   "nbconvert_exporter": "python",
   "pygments_lexer": "ipython3",
   "version": "3.8.9"
  }
 },
 "nbformat": 4,
 "nbformat_minor": 5
}
