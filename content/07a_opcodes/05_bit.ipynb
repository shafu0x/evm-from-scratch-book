{
 "cells": [
  {
   "cell_type": "code",
   "execution_count": null,
   "id": "95b550aa",
   "metadata": {
    "vscode": {
     "languageId": "rust"
    }
   },
   "outputs": [],
   "source": [
    "mod utils;\n",
    "use utils::*;"
   ]
  },
  {
   "cell_type": "markdown",
   "id": "a809800a",
   "metadata": {},
   "source": [
    "# Bit"
   ]
  },
  {
   "cell_type": "markdown",
   "id": "1530d6d5",
   "metadata": {},
   "source": [
    "Again, same concept but for bit operations."
   ]
  },
  {
   "cell_type": "markdown",
   "id": "01e1ac2e",
   "metadata": {},
   "source": [
    "#### Byte"
   ]
  },
  {
   "cell_type": "markdown",
   "id": "6b6227a2",
   "metadata": {},
   "source": [
    "Get one byte from a word (32 bytes)"
   ]
  },
  {
   "cell_type": "code",
   "execution_count": null,
   "id": "444c69ad",
   "metadata": {
    "vscode": {
     "languageId": "rust"
    }
   },
   "outputs": [],
   "source": [
    "pub fn byte(evm: &mut Evm) {\n",
    "    let i = evm.stack.pop();\n",
    "    let x = evm.stack.pop();\n",
    "\n",
    "    let result = if i >= 32 {\n",
    "        0u128\n",
    "    } else {\n",
    "        (x / 256u128.pow(31 - i as u32)) % 256\n",
    "    };\n",
    "\n",
    "    evm.stack.push(result);\n",
    "    evm.pc += 1;\n",
    "    evm.gas_dec(3);\n",
    "}"
   ]
  },
  {
   "cell_type": "markdown",
   "id": "5b300560",
   "metadata": {},
   "source": [
    "## Bit shifts"
   ]
  },
  {
   "cell_type": "markdown",
   "id": "d6e4bc31",
   "metadata": {},
   "source": [
    "Lets see what a bit shift operation looks like"
   ]
  },
  {
   "cell_type": "code",
   "execution_count": null,
   "id": "df3b7125",
   "metadata": {
    "vscode": {
     "languageId": "rust"
    }
   },
   "outputs": [
    {
     "data": {
      "text/plain": [
       "'0b10110'"
      ]
     },
     "execution_count": 13,
     "metadata": {},
     "output_type": "execute_result"
    }
   ],
   "source": [
    "let binary = format!(\"{:#b}\", 22); // binary of 22"
   ]
  },
  {
   "cell_type": "code",
   "execution_count": null,
   "id": "a53d8eb3",
   "metadata": {
    "vscode": {
     "languageId": "rust"
    }
   },
   "outputs": [
    {
     "data": {
      "text/plain": [
       "'0b1011000'"
      ]
     },
     "execution_count": 14,
     "metadata": {},
     "output_type": "execute_result"
    }
   ],
   "source": [
    "let shifted_binary = format!(\"{:#b}\", 22 << 2); // bitwise left shift of 22 by 2 positions"
   ]
  },
  {
   "cell_type": "code",
   "execution_count": null,
   "id": "07ef38cc",
   "metadata": {
    "vscode": {
     "languageId": "rust"
    }
   },
   "outputs": [
    {
     "data": {
      "text/plain": [
       "'0b101'"
      ]
     },
     "execution_count": 15,
     "metadata": {},
     "output_type": "execute_result"
    }
   ],
   "source": [
    "let shifted_binary = format!(\"{:#b}\", 22 >> 2); // bitwise right shift of 22 by 2 positions"
   ]
  },
  {
   "cell_type": "markdown",
   "id": "63e6072a",
   "metadata": {},
   "source": [
    "#### Bit Shift left"
   ]
  },
  {
   "cell_type": "markdown",
   "id": "8f7b1248",
   "metadata": {},
   "source": [
    "`1010` bit shifted left by `2` positions becomes `101000`"
   ]
  },
  {
   "cell_type": "code",
   "execution_count": null,
   "id": "7c02c981",
   "metadata": {
    "vscode": {
     "languageId": "rust"
    }
   },
   "outputs": [],
   "source": [
    "fn shl(evm: &mut Evm) {\n",
    "    let shift = evm.cpu.stack.pop();\n",
    "    let value = evm.cpu.stack.pop();\n",
    "    evm.stack.push(value << shift);\n",
    "    evm.pc += 1;\n",
    "    evm.gas_dec(3);\n",
    "}"
   ]
  },
  {
   "cell_type": "markdown",
   "id": "0177d01b",
   "metadata": {},
   "source": [
    "#### Bit Shift right"
   ]
  },
  {
   "cell_type": "markdown",
   "id": "2f549a05",
   "metadata": {},
   "source": [
    "`1010` bit shifted left by `2` positions becomes `10`"
   ]
  },
  {
   "cell_type": "code",
   "execution_count": null,
   "id": "2089a68a",
   "metadata": {
    "vscode": {
     "languageId": "rust"
    }
   },
   "outputs": [],
   "source": [
    "pub fn shr(evm: &mut Evm) {\n",
    "    let shift = evm.stack.pop();\n",
    "    let value = evm.stack.pop();\n",
    "    evm.stack.push(value >> shift);\n",
    "    evm.pc += 1;\n",
    "    evm.gas_dec(3);\n",
    "}"
   ]
  },
  {
   "cell_type": "markdown",
   "id": "b7f6579f",
   "metadata": {},
   "source": [
    "#### Signed Shift right"
   ]
  },
  {
   "cell_type": "code",
   "execution_count": null,
   "id": "e23f78a5",
   "metadata": {
    "vscode": {
     "languageId": "rust"
    }
   },
   "outputs": [],
   "source": [
    "pub fn sar(evm: &mut Evm) {\n",
    "    let shift = evm.stack.pop();\n",
    "    let value = evm.stack.pop();\n",
    "\n",
    "    let result = if shift >= U256::from(256) {\n",
    "        if value >> 255 == U256::zero() {\n",
    "            U256::zero()\n",
    "        } else {\n",
    "            U256::MAX\n",
    "        }\n",
    "    } else {\n",
    "        let shifted = value >> shift;\n",
    "        if value >> 255 == U256::zero() {\n",
    "            shifted\n",
    "        } else {\n",
    "            let mask = (!U256::zero()) << (256 - shift.as_u32());\n",
    "            shifted | mask\n",
    "        }\n",
    "    };\n",
    "\n",
    "    evm.stack.push(result);\n",
    "    evm.pc += 1;\n",
    "    evm.gas_dec(3);\n",
    "}"
   ]
  }
 ],
 "metadata": {
  "kernelspec": {
   "display_name": "Python 3 (ipykernel)",
   "language": "python",
   "name": "python3"
  },
  "language_info": {
   "codemirror_mode": {
    "name": "ipython",
    "version": 3
   },
   "file_extension": ".py",
   "mimetype": "text/x-python",
   "name": "python",
   "nbconvert_exporter": "python",
   "pygments_lexer": "ipython3",
   "version": "3.8.9"
  }
 },
 "nbformat": 4,
 "nbformat_minor": 5
}
