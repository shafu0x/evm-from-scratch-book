{
 "cells": [
  {
   "cell_type": "markdown",
   "id": "a73f6343",
   "metadata": {},
   "source": [
    "# Math"
   ]
  },
  {
   "cell_type": "markdown",
   "id": "577d70ee",
   "metadata": {},
   "source": [
    "We are going to implement all arithmetic operations here. These are the first opcodes that actually manipulate the stack and consume some gas."
   ]
  },
  {
   "cell_type": "markdown",
   "id": "18e71195",
   "metadata": {},
   "source": [
    "Let's see how `add` works. We are going to `pop` 2 values from the stack add them and `push` back the result on the stack.\n",
    "\n",
    "We also need to increment the `program counter (pc)` by one. In the end we need to deduct 3 gas for executing the `add` operation."
   ]
  },
  {
   "cell_type": "markdown",
   "id": "94935b39",
   "metadata": {},
   "source": [
    "Let's declare some constants first. You will understand it as you read opcodes."
   ]
  },
  {
   "cell_type": "code",
   "execution_count": 6,
   "id": "4d58d57b",
   "metadata": {},
   "outputs": [],
   "source": [
    "MOD  = 2**256         # 2**256\n",
    "SIGN = 2**255\n",
    "JUMPDEST=0x5B"
   ]
  },
  {
   "cell_type": "markdown",
   "id": "234e88d3",
   "metadata": {},
   "source": [
    "Most arithmetic opcodes work like this. You can see in many opcodes, mode is used. The purpose is to convert it to uint256 before pushing to stack as stack can only take uint256 as per ethereum yellow paper."
   ]
  },
  {
   "cell_type": "code",
   "execution_count": 7,
   "id": "f4c2d206",
   "metadata": {},
   "outputs": [],
   "source": [
    "def add(evm):\n",
    "    a,b = evm.stack.pop(), evm.stack.pop()\n",
    "    result = (a + b)%MOD\n",
    "    evm.stack.push(result)\n",
    "    evm.pc += 1\n",
    "    evm.gas_dec(3)"
   ]
  },
  {
   "cell_type": "code",
   "execution_count": 8,
   "id": "4e87de0f",
   "metadata": {},
   "outputs": [],
   "source": [
    "def mul(evm):\n",
    "    a,b = evm.stack.pop(), evm.stack.pop()\n",
    "    result = (a * b) % MOD  \n",
    "    evm.stack.push(result)\n",
    "    evm.pc += 1\n",
    "    evm.gas_dec(5)"
   ]
  },
  {
   "cell_type": "code",
   "execution_count": 9,
   "id": "b327519b",
   "metadata": {},
   "outputs": [],
   "source": [
    "def sub(evm):\n",
    "    a,b = evm.stack.pop(), evm.stack.pop()\n",
    "    result=(a-b)%MOD\n",
    "    evm.stack.push(result)\n",
    "    evm.pc += 1\n",
    "    evm.gas_dec(3)    "
   ]
  },
  {
   "cell_type": "markdown",
   "id": "2302c413",
   "metadata": {},
   "source": [
    "One interesting note about how the EVM handles division by 0. Most other systems would throw an exception if you try to divide by 0. Not the EVM. It just returns 0.\n",
    "\n",
    "Division by 0 are not directly handled by the EVM and are mostly a feature of the programming language like Solidity."
   ]
  },
  {
   "cell_type": "code",
   "execution_count": 10,
   "id": "931677f6",
   "metadata": {},
   "outputs": [],
   "source": [
    "def div(evm):  #it will give correct result for unsigned integer only so always use it when dealing with unsigned number\n",
    "    a,b = evm.stack.pop(), evm.stack.pop() #no need of modulo here because div cant overflow\n",
    "    result = 0 if b == 0 else a // b\n",
    "    evm.stack.push(result)\n",
    "    evm.pc += 1\n",
    "    evm.gas_dec(5)"
   ]
  },
  {
   "cell_type": "markdown",
   "id": "823e5b6f",
   "metadata": {},
   "source": [
    "sdiv is used when dealing with either or both of numerator and denominator being negative. We will first convert it to signed to calculate and the push it into stack converting to unsigned."
   ]
  },
  {
   "cell_type": "markdown",
   "id": "2d541e0f",
   "metadata": {},
   "source": [
    "Two helper functions, one to convert unsigned to signed and vice-versa"
   ]
  },
  {
   "cell_type": "code",
   "execution_count": 11,
   "id": "a311e719",
   "metadata": {},
   "outputs": [],
   "source": [
    "def to_unsigned(x):\n",
    "    return x % MOD\n",
    "\n",
    "def to_signed(x):\n",
    "    return x - MOD if x >= SIGN else x"
   ]
  },
  {
   "cell_type": "code",
   "execution_count": 12,
   "id": "19fc082e",
   "metadata": {},
   "outputs": [],
   "source": [
    "def sdiv(evm):\n",
    "    a,b= evm.stack.pop(), evm.stack.pop()\n",
    "    a, b = to_signed(a), to_signed(b)   # reinterpret inputs as signed\n",
    "\n",
    "    if b == 0:\n",
    "        result = 0\n",
    "    elif a == -(2**255) and b == -1:\n",
    "        result = -(2**255)  #  case accroding to yellow paper\n",
    "    else:\n",
    "        result = int(a / b)   # truncates toward Zero in Python \n",
    "\n",
    "    evm.stack.push(to_unsigned(result))  # unsigned form\n",
    "    evm.pc += 1\n",
    "    evm.gas_dec(5)"
   ]
  },
  {
   "cell_type": "code",
   "execution_count": 13,
   "id": "b7cc3fc1",
   "metadata": {},
   "outputs": [],
   "source": [
    "def mod(evm):\n",
    "    a, b = evm.stack.pop(), evm.stack.pop()\n",
    "    evm.stack.push(0 if b == 0 else a % b)\n",
    "    evm.pc += 1\n",
    "    evm.gas_dec(5)"
   ]
  },
  {
   "cell_type": "markdown",
   "id": "c037b0d2",
   "metadata": {},
   "source": [
    "We need smod when either or both of numerator and denominator is negative unlike mod where both are positive. Here the procedure is similar to sdiv where it's first converted to signed, then we apply the logic and then push to stack converting again to unsigned."
   ]
  },
  {
   "cell_type": "code",
   "execution_count": 14,
   "id": "b7932479",
   "metadata": {},
   "outputs": [],
   "source": [
    "def smod(evm):\n",
    "    a,b = evm.stack.pop(), evm.stack.pop()\n",
    "    a, b = to_signed(a), to_signed(b)  \n",
    "\n",
    "    if b == 0:\n",
    "        result = 0\n",
    "    else:\n",
    "        result = (abs(a) % abs(b)) * (1 if a >= 0 else -1)\n",
    "\n",
    "    evm.stack.push(to_unsigned(result))\n",
    "    evm.pc += 1\n",
    "    evm.gas_dec(5)"
   ]
  },
  {
   "cell_type": "code",
   "execution_count": 15,
   "id": "88d178c1",
   "metadata": {},
   "outputs": [],
   "source": [
    "def addmod(evm):\n",
    "    a, b = evm.stack.pop(), evm.stack.pop()\n",
    "    N = evm.stack.pop()\n",
    "    result = 0 if N == 0 else (a + b) % N  #according to yellow paper \n",
    "    evm.stack.push(result)\n",
    "    evm.pc += 1\n",
    "    evm.gas_dec(8)"
   ]
  },
  {
   "cell_type": "code",
   "execution_count": 16,
   "id": "e6703ad1",
   "metadata": {},
   "outputs": [],
   "source": [
    "def mulmod(evm):\n",
    "    a, b = evm.stack.pop(), evm.stack.pop()\n",
    "    N = evm.stack.pop()\n",
    "    result = 0 if N == 0 else (a * b) % N  #according to yellow paper \n",
    "    evm.stack.push(result)\n",
    "    evm.pc += 1\n",
    "    evm.gas_dec(8)"
   ]
  },
  {
   "cell_type": "markdown",
   "id": "779a1bff",
   "metadata": {},
   "source": [
    "The gas cost for exp is dynamic. It is a function of how many bytes we need to represent the exponent in binary. This helper function calculates this."
   ]
  },
  {
   "cell_type": "code",
   "execution_count": 17,
   "id": "91a5c8eb",
   "metadata": {},
   "outputs": [],
   "source": [
    "def size_in_bytes(number):\n",
    "    import math\n",
    "    if number == 0: return 1\n",
    "    bits_needed = math.ceil(math.log2(abs(number) + 1))\n",
    "    return math.ceil(bits_needed / 8)"
   ]
  },
  {
   "cell_type": "code",
   "execution_count": 18,
   "id": "8f49f2f2",
   "metadata": {},
   "outputs": [],
   "source": [
    "def exp(evm):\n",
    "    a,exponent = evm.stack.pop(), evm.stack.pop()\n",
    "    result = pow(a, exponent, MOD)   # safe and efficient  \n",
    "    # result= (a**exponent)%MOD  same thing but less efficient\n",
    "    evm.stack.push(result)\n",
    "    evm.pc += 1\n",
    "    evm.gas_dec(10 + (50 * size_in_bytes(exponent)))"
   ]
  },
  {
   "cell_type": "markdown",
   "id": "e095fb09",
   "metadata": {},
   "source": [
    "More informations about this rarely used opcode `signextend` [here](https://ethereum.stackexchange.com/questions/63062/evm-signextend-opcode-explanation)."
   ]
  },
  {
   "cell_type": "code",
   "execution_count": 37,
   "id": "e79c3c18",
   "metadata": {},
   "outputs": [],
   "source": [
    "def signextend(evm):\n",
    "    b, x = evm.stack.pop(), evm.stack.pop()\n",
    "    if b <= 31:\n",
    "        testbit = b * 8 + 7\n",
    "        sign_bit = 1 << testbit\n",
    "        if x & sign_bit: result = x | (2**256 - sign_bit)\n",
    "        else           : result = x & (sign_bit - 1)\n",
    "    else: result = x\n",
    "    \n",
    "    evm.stack.push(result)\n",
    "    evm.pc += 1\n",
    "    evm.gas_dec(5)"
   ]
  }
 ],
 "metadata": {
  "kernelspec": {
   "display_name": "Python 3",
   "language": "python",
   "name": "python3"
  },
  "language_info": {
   "codemirror_mode": {
    "name": "ipython",
    "version": 3
   },
   "file_extension": ".py",
   "mimetype": "text/x-python",
   "name": "python",
   "nbconvert_exporter": "python",
   "pygments_lexer": "ipython3",
   "version": "3.12.3"
  }
 },
 "nbformat": 4,
 "nbformat_minor": 5
}
