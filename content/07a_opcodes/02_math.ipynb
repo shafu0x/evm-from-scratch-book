{
 "cells": [
  {
   "cell_type": "markdown",
   "id": "a73f6343",
   "metadata": {},
   "source": [
    "# Math"
   ]
  },
  {
   "cell_type": "markdown",
   "id": "577d70ee",
   "metadata": {},
   "source": [
    "We are going to implement all arithmetic operations here. These are the first opcodes that actually manipulate the stack and consume some gas."
   ]
  },
  {
   "cell_type": "markdown",
   "id": "18e71195",
   "metadata": {},
   "source": [
    "Lets see how `add` works. We are going to `pop` 2 values from the stack add them and `push` back the result on the stack.\n",
    "\n",
    "We also need to increment the `program counter (pc)` by one. In the end we need to deduct 3 gas for executing the `add` operation."
   ]
  },
  {
   "cell_type": "markdown",
   "id": "234e88d3",
   "metadata": {},
   "source": [
    "Most arithmetic opcodes work like this."
   ]
  },
  {
   "cell_type": "code",
   "execution_count": null,
   "id": "f4c2d206",
   "metadata": {
    "vscode": {
     "languageId": "rust"
    }
   },
   "outputs": [],
   "source": [
    "pub fn add(evm: &mut State) {\n",
    "    let a = evm.stack.pop();\n",
    "    let b = evm.stack.pop();\n",
    "    evm.stack.push(a + b);\n",
    "    evm.pc += 1;\n",
    "    evm.gas_dec(3);\n",
    "}"
   ]
  },
  {
   "cell_type": "code",
   "execution_count": null,
   "id": "4e87de0f",
   "metadata": {
    "vscode": {
     "languageId": "rust"
    }
   },
   "outputs": [],
   "source": [
    "pub fn mul(evm: &mut State) {\n",
    "    let a = evm.stack.pop();\n",
    "    let b = evm.stack.pop();\n",
    "    evm.stack.push(a * b);\n",
    "    evm.pc += 1;\n",
    "    evm.gas_dec(5);\n",
    "}"
   ]
  },
  {
   "cell_type": "code",
   "execution_count": null,
   "id": "b327519b",
   "metadata": {
    "vscode": {
     "languageId": "rust"
    }
   },
   "outputs": [],
   "source": [
    "pub fn sub(evm: &mut State) {\n",
    "    let a = evm.stack.pop();\n",
    "    let b = evm.stack.pop();\n",
    "    evm.stack.push(a - b);\n",
    "    evm.pc += 1;\n",
    "    evm.gas_dec(3);\n",
    "}"
   ]
  },
  {
   "cell_type": "markdown",
   "id": "2302c413",
   "metadata": {},
   "source": [
    "One interesting note about how the EVM handles division by 0. Most other systems would throw an exception if you try to divide by 0. Not the EVM. It just returns 0.\n",
    "\n",
    "Division by 0 are not directly handled by the EVM and are mostly a feature of the programming language like Solidity."
   ]
  },
  {
   "cell_type": "code",
   "execution_count": null,
   "id": "931677f6",
   "metadata": {
    "vscode": {
     "languageId": "rust"
    }
   },
   "outputs": [],
   "source": [
    "pub fn div(evm: &mut State) {\n",
    "    let a = evm.stack.pop();\n",
    "    let b = evm.stack.pop();\n",
    "    evm.stack.push(if b == 0 { 0 } else { a / b });\n",
    "    evm.pc += 1;\n",
    "    evm.gas_dec(5);\n",
    "}"
   ]
  },
  {
   "cell_type": "markdown",
   "id": "823e5b6f",
   "metadata": {},
   "source": [
    "Exactly like div but we use the absolute value for the both the denominator and numerator."
   ]
  },
  {
   "cell_type": "markdown",
   "id": "2d541e0f",
   "metadata": {},
   "source": [
    "Small little helper function to determine the sign of a number."
   ]
  },
  {
   "cell_type": "code",
   "execution_count": null,
   "id": "a311e719",
   "metadata": {
    "vscode": {
     "languageId": "rust"
    }
   },
   "outputs": [],
   "source": [
    "let pos_or_neg = |number: i64| if number < 0 { -1 } else { 1 };"
   ]
  },
  {
   "cell_type": "code",
   "execution_count": null,
   "id": "19fc082e",
   "metadata": {
    "vscode": {
     "languageId": "rust"
    }
   },
   "outputs": [],
   "source": [
    "pub fn sdiv(evm: &mut State) {\n",
    "    let a = evm.stack.pop() as i64;\n",
    "    let b = evm.stack.pop() as i64;\n",
    "\n",
    "    let sign = if a * b < 0 { -1 } else { 1 }; // equivalent to pos_or_neg(a*b)\n",
    "\n",
    "    evm.stack.push(if b == 0 { 0 } else { sign * (a.abs() / b.abs()) } as u64);\n",
    "    evm.pc += 1;\n",
    "    evm.gas_dec(5);\n",
    "}"
   ]
  },
  {
   "cell_type": "code",
   "execution_count": null,
   "id": "b7cc3fc1",
   "metadata": {
    "vscode": {
     "languageId": "rust"
    }
   },
   "outputs": [],
   "source": [
    "pub fn modulo(evm: &mut State) {\n",
    "    let a = evm.stack.pop();\n",
    "    let b = evm.stack.pop();\n",
    "    evm.stack.push(if b == 0 { 0 } else { a % b });\n",
    "    evm.pc += 1;\n",
    "    evm.gas_dec(5);\n",
    "}"
   ]
  },
  {
   "cell_type": "code",
   "execution_count": null,
   "id": "b7932479",
   "metadata": {
    "vscode": {
     "languageId": "rust"
    }
   },
   "outputs": [],
   "source": [
    "pub fn smod(evm: &mut State) {\n",
    "    let a = evm.stack.pop() as i64;\n",
    "    let b = evm.stack.pop() as i64;\n",
    "\n",
    "    let sign = if a * b < 0 { -1 } else { 1 }; // equivalent to pos_or_neg(a*b)\n",
    "\n",
    "    evm.stack.push(if b == 0 { 0 } else { (a.abs() % b.abs()) * sign } as u64);\n",
    "    evm.pc += 1;\n",
    "    evm.gas_dec(5);\n",
    "}"
   ]
  },
  {
   "cell_type": "code",
   "execution_count": null,
   "id": "88d178c1",
   "metadata": {
    "vscode": {
     "languageId": "rust"
    }
   },
   "outputs": [],
   "source": [
    "pub fn addmod(evm: &mut State) {\n",
    "    let a = evm.stack.pop();\n",
    "    let b = evm.stack.pop();\n",
    "    let n = evm.stack.pop();\n",
    "\n",
    "    evm.stack.push((a + b) % n);\n",
    "    evm.pc += 1;\n",
    "    evm.gas_dec(8);\n",
    "}"
   ]
  },
  {
   "cell_type": "code",
   "execution_count": null,
   "id": "e6703ad1",
   "metadata": {
    "vscode": {
     "languageId": "rust"
    }
   },
   "outputs": [],
   "source": [
    "pub fn mulmod(evm: &mut State) {\n",
    "    let a = evm.stack.pop();\n",
    "    let b = evm.stack.pop();\n",
    "    let n = evm.stack.pop();\n",
    "\n",
    "    evm.stack.push((a * b) % n);\n",
    "    evm.pc += 1;\n",
    "    evm.gas_dec(8);\n",
    "}"
   ]
  },
  {
   "cell_type": "markdown",
   "id": "779a1bff",
   "metadata": {},
   "source": [
    "The gas cost for exp is dynamic. It is a function of how many bytes we need to represent the exponent in binary. This helper function calculates this."
   ]
  },
  {
   "cell_type": "code",
   "execution_count": null,
   "id": "91a5c8eb",
   "metadata": {
    "vscode": {
     "languageId": "rust"
    }
   },
   "outputs": [],
   "source": [
    "pub fn size_in_bytes(number: i128) -> usize {\n",
    "    if number == 0 {\n",
    "        return 1;\n",
    "    }\n",
    "    let bits_needed = (number.abs() as f64 + 1.0).log2().ceil() as usize;\n",
    "    (bits_needed + 7) / 8\n",
    "}"
   ]
  },
  {
   "cell_type": "code",
   "execution_count": null,
   "id": "8f49f2f2",
   "metadata": {
    "vscode": {
     "languageId": "rust"
    }
   },
   "outputs": [],
   "source": [
    "pub fn exp(evm: &mut Evm) {\n",
    "    let a = evm.stack.pop();\n",
    "    let exponent = evm.stack.pop();\n",
    "    evm.stack.push(a.pow(exponent));\n",
    "    evm.pc += 1;\n",
    "    evm.gas_dec(10 + 50 * size_in_bytes(exponent));\n",
    "}"
   ]
  },
  {
   "cell_type": "markdown",
   "id": "e095fb09",
   "metadata": {},
   "source": [
    "More informations about this rarely used opcode `signextend` [here](https://ethereum.stackexchange.com/questions/63062/evm-signextend-opcode-explanation)."
   ]
  },
  {
   "cell_type": "code",
   "execution_count": null,
   "id": "e79c3c18",
   "metadata": {
    "vscode": {
     "languageId": "rust"
    }
   },
   "outputs": [],
   "source": [
    "pub fn signextend(evm: &mut Evm) {\n",
    "    let b = evm.stack.pop();\n",
    "    let x = evm.stack.pop();\n",
    "    let result = if b <= 31 {\n",
    "        let testbit = b * 8 + 7;\n",
    "        let sign_bit = 1_u128 << testbit;\n",
    "        if x & sign_bit != 0 {\n",
    "            x | ((1_u128 << 256) - sign_bit)\n",
    "        } else {\n",
    "            x & (sign_bit - 1)\n",
    "        }\n",
    "    } else {\n",
    "        x\n",
    "    };\n",
    "\n",
    "    evm.stack.push(result);\n",
    "    evm.pc += 1;\n",
    "    evm.gas_dec(5);\n",
    "}"
   ]
  }
 ],
 "metadata": {
  "kernelspec": {
   "display_name": "Python 3 (ipykernel)",
   "language": "python",
   "name": "python3"
  },
  "language_info": {
   "codemirror_mode": {
    "name": "ipython",
    "version": 3
   },
   "file_extension": ".py",
   "mimetype": "text/x-python",
   "name": "python",
   "nbconvert_exporter": "python",
   "pygments_lexer": "ipython3",
   "version": "3.8.9"
  }
 },
 "nbformat": 4,
 "nbformat_minor": 5
}
