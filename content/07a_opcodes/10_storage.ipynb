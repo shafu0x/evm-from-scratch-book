{
 "cells": [
  {
   "cell_type": "markdown",
   "id": "180b197f",
   "metadata": {},
   "source": [
    "# Storage"
   ]
  },
  {
   "cell_type": "markdown",
   "id": "a3337c5d",
   "metadata": {},
   "source": [
    "These are very important opcodes because they manipulate storage, which is very expensive."
   ]
  },
  {
   "cell_type": "markdown",
   "id": "98034451",
   "metadata": {},
   "source": [
    "#### Storage Load"
   ]
  },
  {
   "cell_type": "markdown",
   "id": "6c8c428d",
   "metadata": {},
   "source": [
    "Load a `word` from storage given by a `key` and put it on the stack."
   ]
  },
  {
   "cell_type": "code",
   "execution_count": 2,
   "id": "ae2ab819",
   "metadata": {},
   "outputs": [],
   "source": [
    "def sload(evm):\n",
    "    key=evm.stack.pop()\n",
    "    warm,value=evm.storage.load(key)\n",
    "    evm.stack.push(value)\n",
    "\n",
    "\n",
    "    # gas cost depends on warm/cold\n",
    "    if warm:\n",
    "        evm.gas_dec(100)\n",
    "    else:\n",
    "        evm.gas_dec(2100)\n",
    "\n",
    "    evm.pc += 1"
   ]
  },
  {
   "cell_type": "markdown",
   "id": "19d43120",
   "metadata": {},
   "source": [
    "#### Storage Store"
   ]
  },
  {
   "cell_type": "markdown",
   "id": "23afc826",
   "metadata": {},
   "source": [
    "Get the `key` and the `word` that will be stored from the stack and store in storage."
   ]
  },
  {
   "cell_type": "code",
   "execution_count": 3,
   "id": "69b473ab",
   "metadata": {},
   "outputs": [],
   "source": [
    "def sstore(evm):\n",
    "    key,value=evm.stack.pop(),evm.stack.pop()\n",
    "    warm,old_value=evm.storage.load(key)\n",
    "\n",
    "    base_dynamic_gas=0\n",
    "    evm.storage.store(key, value)\n",
    "\n",
    "    if value == old_value:\n",
    "        base_dynamic_gas = 0\n",
    "    elif old_value == 0 and value != 0:\n",
    "        base_dynamic_gas = 20000\n",
    "    else:\n",
    "        base_dynamic_gas = 5000 \n",
    "\n",
    "    access_cost = 100 if warm else 2100\n",
    "\n",
    "\n",
    "    evm.gas_dec(base_dynamic_gas + access_cost)\n",
    "\n",
    "    evm.pc += 1\n",
    "   # TODO: do refunds "
   ]
  }
 ],
 "metadata": {
  "kernelspec": {
   "display_name": "Python 3 (ipykernel)",
   "language": "python",
   "name": "python3"
  },
  "language_info": {
   "codemirror_mode": {
    "name": "ipython",
    "version": 3
   },
   "file_extension": ".py",
   "mimetype": "text/x-python",
   "name": "python",
   "nbconvert_exporter": "python",
   "pygments_lexer": "ipython3",
   "version": "3.8.9"
  }
 },
 "nbformat": 4,
 "nbformat_minor": 5
}
