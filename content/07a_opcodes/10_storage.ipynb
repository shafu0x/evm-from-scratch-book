{
 "cells": [
  {
   "cell_type": "markdown",
   "id": "180b197f",
   "metadata": {},
   "source": [
    "# Storage"
   ]
  },
  {
   "cell_type": "markdown",
   "id": "a3337c5d",
   "metadata": {},
   "source": [
    "These are very important opcodes because they manipulate storage, which is very expensive."
   ]
  },
  {
   "cell_type": "markdown",
   "id": "98034451",
   "metadata": {},
   "source": [
    "#### Storage Load"
   ]
  },
  {
   "cell_type": "markdown",
   "id": "6c8c428d",
   "metadata": {},
   "source": [
    "Load a `word` from storage given by a `key` and put it on the stack."
   ]
  },
  {
   "cell_type": "code",
   "execution_count": null,
   "id": "ae2ab819",
   "metadata": {
    "vscode": {
     "languageId": "rust"
    }
   },
   "outputs": [],
   "source": [
    "pub fn sload(evm: &mut EVM) {\n",
    "    let key = evm.stack.pop().value;\n",
    "    let (warm, value) = evm.storage.load(key);\n",
    "    evm.stack.push(value);\n",
    "\n",
    "    evm.gas_dec(2100); // 100 if warm\n",
    "    evm.pc += 1;\n",
    "}"
   ]
  },
  {
   "cell_type": "markdown",
   "id": "19d43120",
   "metadata": {},
   "source": [
    "#### Storage Store"
   ]
  },
  {
   "cell_type": "markdown",
   "id": "23afc826",
   "metadata": {},
   "source": [
    "Get the `key` and the `word` that will be stored from the stack and store in storage."
   ]
  },
  {
   "cell_type": "code",
   "execution_count": null,
   "id": "69b473ab",
   "metadata": {
    "vscode": {
     "languageId": "rust"
    }
   },
   "outputs": [],
   "source": [
    "pub fn sstore(evm: &mut EVM) {\n",
    "    let key = evm.stack.pop();\n",
    "    let value = evm.stack.pop();\n",
    "    let (warm, old_value) = evm.storage.store(key, value);\n",
    "\n",
    "    let mut base_dynamic_gas = 0;\n",
    "\n",
    "    if value != old_value {\n",
    "        if old_value == 0 {\n",
    "            base_dynamic_gas = 20000;\n",
    "        } else {\n",
    "            base_dynamic_gas = 2900;\n",
    "        }\n",
    "    }\n",
    "\n",
    "    let access_cost = if warm { 100 } else { 2100 };\n",
    "    evm.gas_dec(base_dynamic_gas + access_cost);\n",
    "\n",
    "    evm.pc += 1;\n",
    "\n",
    "    // TODO: handle refunds\n",
    "}"
   ]
  }
 ],
 "metadata": {
  "kernelspec": {
   "display_name": "Python 3 (ipykernel)",
   "language": "python",
   "name": "python3"
  },
  "language_info": {
   "codemirror_mode": {
    "name": "ipython",
    "version": 3
   },
   "file_extension": ".py",
   "mimetype": "text/x-python",
   "name": "python",
   "nbconvert_exporter": "python",
   "pygments_lexer": "ipython3",
   "version": "3.8.9"
  }
 },
 "nbformat": 4,
 "nbformat_minor": 5
}
