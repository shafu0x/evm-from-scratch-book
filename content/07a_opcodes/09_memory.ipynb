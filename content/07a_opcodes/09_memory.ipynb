{
 "cells": [
  {
   "cell_type": "markdown",
   "id": "ffb6bc83",
   "metadata": {},
   "source": [
    "# Memory"
   ]
  },
  {
   "cell_type": "markdown",
   "id": "7ed46c5f",
   "metadata": {},
   "source": [
    "There are three memory opcodes that are important for us. One for loading from memory and two for storing into memory."
   ]
  },
  {
   "cell_type": "markdown",
   "id": "3029ad3a",
   "metadata": {},
   "source": [
    "`MLOAD` lets us load one `word` (32 bytes) from memory specified by an offset. It puts that `word` on top of the stack."
   ]
  },
  {
   "cell_type": "code",
   "execution_count": null,
   "id": "6138c94e",
   "metadata": {
    "vscode": {
     "languageId": "rust"
    }
   },
   "outputs": [],
   "source": [
    "pub fn mload(evm: &mut EVM) {\n",
    "    let offset = evm.stack.pop();\n",
    "    let value = evm.memory.load(offset);\n",
    "    evm.stack.push(value);\n",
    "    evm.pc += 1;\n",
    "}"
   ]
  },
  {
   "cell_type": "markdown",
   "id": "35063d1e",
   "metadata": {},
   "source": [
    "`MSTORE` allows us to save one word to memory and `MSTORE8` allows us to save one byte to memory."
   ]
  },
  {
   "cell_type": "code",
   "execution_count": null,
   "id": "424c7048",
   "metadata": {
    "vscode": {
     "languageId": "rust"
    }
   },
   "outputs": [],
   "source": [
    "pub fn mstore(evm: &mut EVM) {\n",
    "    // TODO: should be right aligned\n",
    "    let offset = evm.stack.pop();\n",
    "    let value = evm.stack.pop();\n",
    "    evm.memory.store(offset, value);\n",
    "    evm.pc += 1;\n",
    "}"
   ]
  },
  {
   "cell_type": "code",
   "execution_count": null,
   "id": "210cabec",
   "metadata": {
    "vscode": {
     "languageId": "rust"
    }
   },
   "outputs": [],
   "source": [
    "pub fn mstore8(evm: &mut EVM) {\n",
    "    let offset = evm.stack.pop();\n",
    "    let value = evm.stack.pop();\n",
    "    evm.memory.store(offset, value);\n",
    "    evm.pc += 1;\n",
    "}"
   ]
  }
 ],
 "metadata": {
  "kernelspec": {
   "display_name": "Python 3 (ipykernel)",
   "language": "python",
   "name": "python3"
  },
  "language_info": {
   "codemirror_mode": {
    "name": "ipython",
    "version": 3
   },
   "file_extension": ".py",
   "mimetype": "text/x-python",
   "name": "python",
   "nbconvert_exporter": "python",
   "pygments_lexer": "ipython3",
   "version": "3.8.9"
  }
 },
 "nbformat": 4,
 "nbformat_minor": 5
}
