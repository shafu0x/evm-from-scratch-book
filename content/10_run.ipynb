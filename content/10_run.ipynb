{
 "cells": [
  {
   "cell_type": "code",
   "execution_count": 3,
   "id": "3e486478",
   "metadata": {},
   "outputs": [
    {
     "ename": "ModuleNotFoundError",
     "evalue": "No module named 'nbformat'",
     "output_type": "error",
     "traceback": [
      "\u001b[31m---------------------------------------------------------------------------\u001b[39m",
      "\u001b[31mModuleNotFoundError\u001b[39m                       Traceback (most recent call last)",
      "\u001b[36mCell\u001b[39m\u001b[36m \u001b[39m\u001b[32mIn[3]\u001b[39m\u001b[32m, line 1\u001b[39m\n\u001b[32m----> \u001b[39m\u001b[32m1\u001b[39m \u001b[43mget_ipython\u001b[49m\u001b[43m(\u001b[49m\u001b[43m)\u001b[49m\u001b[43m.\u001b[49m\u001b[43mrun_line_magic\u001b[49m\u001b[43m(\u001b[49m\u001b[33;43m'\u001b[39;49m\u001b[33;43mrun\u001b[39;49m\u001b[33;43m'\u001b[39;49m\u001b[43m,\u001b[49m\u001b[43m \u001b[49m\u001b[33;43m'\u001b[39;49m\u001b[33;43mutils.ipynb\u001b[39;49m\u001b[33;43m'\u001b[39;49m\u001b[43m)\u001b[49m\n\u001b[32m      3\u001b[39m notebooks = [\n\u001b[32m      4\u001b[39m     \u001b[33m\"\u001b[39m\u001b[33m08_evm.ipynb\u001b[39m\u001b[33m\"\u001b[39m,\n\u001b[32m      5\u001b[39m     \u001b[33m\"\u001b[39m\u001b[33m09_bytecode.ipynb\u001b[39m\u001b[33m\"\u001b[39m\n\u001b[32m      6\u001b[39m ]\n\u001b[32m      8\u001b[39m import_notebooks(notebooks)\n",
      "\u001b[36mFile \u001b[39m\u001b[32m~/.local/lib/python3.12/site-packages/IPython/core/interactiveshell.py:2504\u001b[39m, in \u001b[36mInteractiveShell.run_line_magic\u001b[39m\u001b[34m(self, magic_name, line, _stack_depth)\u001b[39m\n\u001b[32m   2502\u001b[39m     kwargs[\u001b[33m'\u001b[39m\u001b[33mlocal_ns\u001b[39m\u001b[33m'\u001b[39m] = \u001b[38;5;28mself\u001b[39m.get_local_scope(stack_depth)\n\u001b[32m   2503\u001b[39m \u001b[38;5;28;01mwith\u001b[39;00m \u001b[38;5;28mself\u001b[39m.builtin_trap:\n\u001b[32m-> \u001b[39m\u001b[32m2504\u001b[39m     result = \u001b[43mfn\u001b[49m\u001b[43m(\u001b[49m\u001b[43m*\u001b[49m\u001b[43margs\u001b[49m\u001b[43m,\u001b[49m\u001b[43m \u001b[49m\u001b[43m*\u001b[49m\u001b[43m*\u001b[49m\u001b[43mkwargs\u001b[49m\u001b[43m)\u001b[49m\n\u001b[32m   2506\u001b[39m \u001b[38;5;66;03m# The code below prevents the output from being displayed\u001b[39;00m\n\u001b[32m   2507\u001b[39m \u001b[38;5;66;03m# when using magics with decorator @output_can_be_silenced\u001b[39;00m\n\u001b[32m   2508\u001b[39m \u001b[38;5;66;03m# when the last Python token in the expression is a ';'.\u001b[39;00m\n\u001b[32m   2509\u001b[39m \u001b[38;5;28;01mif\u001b[39;00m \u001b[38;5;28mgetattr\u001b[39m(fn, magic.MAGIC_OUTPUT_CAN_BE_SILENCED, \u001b[38;5;28;01mFalse\u001b[39;00m):\n",
      "\u001b[36mFile \u001b[39m\u001b[32m~/.local/lib/python3.12/site-packages/IPython/core/magics/execution.py:749\u001b[39m, in \u001b[36mExecutionMagics.run\u001b[39m\u001b[34m(self, parameter_s, runner, file_finder)\u001b[39m\n\u001b[32m    747\u001b[39m     \u001b[38;5;28;01mwith\u001b[39;00m preserve_keys(\u001b[38;5;28mself\u001b[39m.shell.user_ns, \u001b[33m'\u001b[39m\u001b[33m__file__\u001b[39m\u001b[33m'\u001b[39m):\n\u001b[32m    748\u001b[39m         \u001b[38;5;28mself\u001b[39m.shell.user_ns[\u001b[33m'\u001b[39m\u001b[33m__file__\u001b[39m\u001b[33m'\u001b[39m] = filename\n\u001b[32m--> \u001b[39m\u001b[32m749\u001b[39m         \u001b[38;5;28;43mself\u001b[39;49m\u001b[43m.\u001b[49m\u001b[43mshell\u001b[49m\u001b[43m.\u001b[49m\u001b[43msafe_execfile_ipy\u001b[49m\u001b[43m(\u001b[49m\u001b[43mfilename\u001b[49m\u001b[43m,\u001b[49m\u001b[43m \u001b[49m\u001b[43mraise_exceptions\u001b[49m\u001b[43m=\u001b[49m\u001b[38;5;28;43;01mTrue\u001b[39;49;00m\u001b[43m)\u001b[49m\n\u001b[32m    750\u001b[39m     \u001b[38;5;28;01mreturn\u001b[39;00m\n\u001b[32m    752\u001b[39m \u001b[38;5;66;03m# Control the response to exit() calls made by the script being run\u001b[39;00m\n",
      "\u001b[36mFile \u001b[39m\u001b[32m~/.local/lib/python3.12/site-packages/IPython/core/interactiveshell.py:2992\u001b[39m, in \u001b[36mInteractiveShell.safe_execfile_ipy\u001b[39m\u001b[34m(self, fname, shell_futures, raise_exceptions)\u001b[39m\n\u001b[32m   2990\u001b[39m \u001b[38;5;28;01mwith\u001b[39;00m prepended_to_syspath(dname):\n\u001b[32m   2991\u001b[39m     \u001b[38;5;28;01mtry\u001b[39;00m:\n\u001b[32m-> \u001b[39m\u001b[32m2992\u001b[39m \u001b[43m        \u001b[49m\u001b[38;5;28;43;01mfor\u001b[39;49;00m\u001b[43m \u001b[49m\u001b[43mcell\u001b[49m\u001b[43m \u001b[49m\u001b[38;5;129;43;01min\u001b[39;49;00m\u001b[43m \u001b[49m\u001b[43mget_cells\u001b[49m\u001b[43m(\u001b[49m\u001b[43m)\u001b[49m\u001b[43m:\u001b[49m\n\u001b[32m   2993\u001b[39m \u001b[43m            \u001b[49m\u001b[43mresult\u001b[49m\u001b[43m \u001b[49m\u001b[43m=\u001b[49m\u001b[43m \u001b[49m\u001b[38;5;28;43mself\u001b[39;49m\u001b[43m.\u001b[49m\u001b[43mrun_cell\u001b[49m\u001b[43m(\u001b[49m\u001b[43mcell\u001b[49m\u001b[43m,\u001b[49m\u001b[43m \u001b[49m\u001b[43msilent\u001b[49m\u001b[43m=\u001b[49m\u001b[38;5;28;43;01mTrue\u001b[39;49;00m\u001b[43m,\u001b[49m\u001b[43m \u001b[49m\u001b[43mshell_futures\u001b[49m\u001b[43m=\u001b[49m\u001b[43mshell_futures\u001b[49m\u001b[43m)\u001b[49m\n\u001b[32m   2994\u001b[39m \u001b[43m            \u001b[49m\u001b[38;5;28;43;01mif\u001b[39;49;00m\u001b[43m \u001b[49m\u001b[43mraise_exceptions\u001b[49m\u001b[43m:\u001b[49m\n",
      "\u001b[36mFile \u001b[39m\u001b[32m~/.local/lib/python3.12/site-packages/IPython/core/interactiveshell.py:2980\u001b[39m, in \u001b[36mInteractiveShell.safe_execfile_ipy.<locals>.get_cells\u001b[39m\u001b[34m()\u001b[39m\n\u001b[32m   2978\u001b[39m \u001b[38;5;250m\u001b[39m\u001b[33;03m\"\"\"generator for sequence of code blocks to run\"\"\"\u001b[39;00m\n\u001b[32m   2979\u001b[39m \u001b[38;5;28;01mif\u001b[39;00m fname.suffix == \u001b[33m\"\u001b[39m\u001b[33m.ipynb\u001b[39m\u001b[33m\"\u001b[39m:\n\u001b[32m-> \u001b[39m\u001b[32m2980\u001b[39m     \u001b[38;5;28;01mfrom\u001b[39;00m \u001b[34;01mnbformat\u001b[39;00m \u001b[38;5;28;01mimport\u001b[39;00m read\n\u001b[32m   2981\u001b[39m     nb = read(fname, as_version=\u001b[32m4\u001b[39m)\n\u001b[32m   2982\u001b[39m     \u001b[38;5;28;01mif\u001b[39;00m \u001b[38;5;129;01mnot\u001b[39;00m nb.cells:\n",
      "\u001b[31mModuleNotFoundError\u001b[39m: No module named 'nbformat'"
     ]
    }
   ],
   "source": [
    "%run utils.ipynb\n",
    "\n",
    "notebooks = [\n",
    "    \"08_evm.ipynb\",\n",
    "    \"09_bytecode.ipynb\"\n",
    "]\n",
    "\n",
    "import_notebooks(notebooks)"
   ]
  },
  {
   "cell_type": "markdown",
   "id": "c16be999-d39a-4e62-b342-3518cc1c4ba6",
   "metadata": {},
   "source": [
    "# Run"
   ]
  },
  {
   "cell_type": "code",
   "execution_count": 68,
   "id": "d2f28323",
   "metadata": {},
   "outputs": [],
   "source": [
    "GAS = 21_000"
   ]
  },
  {
   "cell_type": "markdown",
   "id": "22a5936c",
   "metadata": {},
   "source": [
    "Set up the EVM"
   ]
  },
  {
   "cell_type": "code",
   "execution_count": 69,
   "id": "ecb05fe2",
   "metadata": {},
   "outputs": [],
   "source": [
    "evm = EVM(SIMPLE_ADD, GAS, 0)"
   ]
  },
  {
   "cell_type": "markdown",
   "id": "42b8dd02",
   "metadata": {},
   "source": [
    "Run it!"
   ]
  },
  {
   "cell_type": "code",
   "execution_count": 2,
   "id": "329276d5",
   "metadata": {},
   "outputs": [
    {
     "ename": "NameError",
     "evalue": "name 'evm' is not defined",
     "output_type": "error",
     "traceback": [
      "\u001b[31m---------------------------------------------------------------------------\u001b[39m",
      "\u001b[31mNameError\u001b[39m                                 Traceback (most recent call last)",
      "\u001b[36mCell\u001b[39m\u001b[36m \u001b[39m\u001b[32mIn[2]\u001b[39m\u001b[32m, line 1\u001b[39m\n\u001b[32m----> \u001b[39m\u001b[32m1\u001b[39m \u001b[43mevm\u001b[49m.run()\n",
      "\u001b[31mNameError\u001b[39m: name 'evm' is not defined"
     ]
    }
   ],
   "source": [
    "evm.run()"
   ]
  },
  {
   "cell_type": "markdown",
   "id": "eee75486",
   "metadata": {},
   "source": [
    "Take a look at the result"
   ]
  },
  {
   "cell_type": "code",
   "execution_count": 71,
   "id": "b6b6da94",
   "metadata": {},
   "outputs": [
    {
     "name": "stdout",
     "output_type": "stream",
     "text": [
      "321 <first\n"
     ]
    }
   ],
   "source": [
    "print(evm.stack)"
   ]
  },
  {
   "cell_type": "markdown",
   "id": "832fbc70",
   "metadata": {},
   "source": [
    "Some more examples you can try out\n",
    "\n"
   ]
  },
  {
   "cell_type": "code",
   "execution_count": 1,
   "id": "380eb1c9",
   "metadata": {},
   "outputs": [],
   "source": [
    "# bytecodes.py\n",
    "\n",
    "# -------------------- ADD --------------------\n",
    "\n",
    "SIMPLE_ADD      = [0x60, 0x42, 0x60, 0xFF, 0x01]  #66+255=321\n",
    "\n",
    "ADD_OVERFLOW    = [0x7F] + [0xFF]*32 + [0x60, 0x01, 0x01]\n",
    "# (2^256-1 + 1) mod 2^256 = 0\n",
    "\n",
    "\n",
    "# -------------------- SUB --------------------\n",
    "\n",
    "SIMPLE_SUB      = [0x60, 0x05, 0x60, 0x10, 0x03]\n",
    "#  16 - 5 = 11\n",
    "\n",
    "SUB_UNDERFLOW   = [0x60, 0xFF, 0x60, 0x0F, 0x03]\n",
    "#15 - 255 = -240 mod 2^256\n",
    "\n",
    "\n",
    "# -------------------- MUL --------------------\n",
    "\n",
    "SIMPLE_MUL      = [0x60, 0x14, 0x60, 0x0A, 0x02]\n",
    "# 20*10=200\n",
    "\n",
    "MUL_BY_ZERO     = [0x60, 0x42, 0x60, 0x00, 0x02]\n",
    "#  66*0 = 0\n",
    "\n",
    "MUL_BY_ONE      = [0x60, 0x42, 0x60, 0x01, 0x02]\n",
    "# 66*1=66\n",
    "\n",
    "MUL_BIG_SMALL   = [0x60, 0x02, 0x7F] + [0xFF]*32 + [0x02]\n",
    "# (2^256-1)*2 = 2^257-2 ≡ 2^256-2\n",
    "\n",
    "MUL_MAX         = [0x7F] + [0xFF]*32 + [0x7F] + [0xFF]*32 + [0x02]\n",
    "# (2^256-1)*(2^256-1) = 2^512 - 2^257 + 1 → mod 2^256 = 1\n",
    "\n",
    "\n",
    "# -------------------- DIV --------------------\n",
    "\n",
    "SIMPLE_DIV      = [0x60, 0x0A, 0x60, 0x64, 0x04]\n",
    "#  100 / 10 = 10\n",
    "\n",
    "DIV_BY_ZERO     = [0x60, 0x00, 0x60, 0x02, 0x04]\n",
    "# 2/0 = 0\n",
    "\n",
    "\n",
    "# -------------------- SDIV --------------------\n",
    "\n",
    "SIMPLE_SDIV     = [0x60, 0x02, 0x60, 0x0A, 0x05]\n",
    "#  signed 10/2 = 5\n",
    "\n",
    "SDIV_ZERO       = [0x60, 0x00, 0x60, 0x0A, 0x05]\n",
    "#division by 0 = 0\n",
    "\n",
    "SDIV_NEG_POS    = [0x60, 0x05, 0x7F] + [0xFF]*32 + [0x05]\n",
    "# (-1)/5 = 0 (truncates toward 0)\n",
    "\n",
    "\n",
    "# -------------------- MOD --------------------\n",
    "\n",
    "SIMPLE_MOD      = [0x60, 0x05, 0x60, 0x0D, 0x06]\n",
    "# 13 % 5 = 3\n",
    "\n",
    "\n",
    "# -------------------- EXP --------------------\n",
    "\n",
    "SIMPLE_EXP      = [0x60, 0x05, 0x60, 0x02, 0x0A]\n",
    "#2**5=32\n",
    "\n",
    "EXP_ZERO = [0x60, 0x00, 0x60, 0x05, 0x0A]   #5^0=1\n",
    "EXP_OVERFLOW = [0x60, 0xFF, 0x60, 0x02, 0x0A]  #2^255 mod 2^256\n",
    "\n",
    "\n",
    "\n",
    "ADDMOD_SIMPLE = [0x60, 0x07, 0x60, 0x05, 0x60, 0x03, 0x08]\n",
    "ADDMOD_ZERO_MOD = [0x60, 0x00, 0x60, 0x07, 0x60, 0x05, 0x08]\n",
    "ADDMOD_OVERFLOW_10 = [0x60, 0x0A, 0x7F] + [0xFF]*32 + [0x60, 0x01, 0x08]"
   ]
  },
  {
   "cell_type": "markdown",
   "id": "b7516eae",
   "metadata": {},
   "source": [
    "Congratulations on making it this far! You've successfully built a working foundation and gained hands-on experience with the core concepts of EVM. From here, you might explore additional opcodes beyond what we've covered, dive deeper into the complete implementation code, or experiment with creative ideas of your own."
   ]
  }
 ],
 "metadata": {
  "kernelspec": {
   "display_name": "Python 3",
   "language": "python",
   "name": "python3"
  },
  "language_info": {
   "codemirror_mode": {
    "name": "ipython",
    "version": 3
   },
   "file_extension": ".py",
   "mimetype": "text/x-python",
   "name": "python",
   "nbconvert_exporter": "python",
   "pygments_lexer": "ipython3",
   "version": "3.12.3"
  }
 },
 "nbformat": 4,
 "nbformat_minor": 5
}
