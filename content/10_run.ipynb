{
 "cells": [
  {
   "cell_type": "code",
   "execution_count": null,
   "id": "3e486478",
   "metadata": {},
   "outputs": [],
   "source": [
    "%run utils.ipynb\n",
    "\n",
    "notebooks = [\n",
    "    \"08_evm.ipynb\",\n",
    "    \"09_bytecode.ipynb\"\n",
    "]\n",
    "\n",
    "import_notebooks(notebooks)"
   ]
  },
  {
   "cell_type": "markdown",
   "id": "c16be999-d39a-4e62-b342-3518cc1c4ba6",
   "metadata": {},
   "source": [
    "# Run"
   ]
  },
  {
   "cell_type": "code",
   "execution_count": 68,
   "id": "d2f28323",
   "metadata": {},
   "outputs": [],
   "source": [
    "GAS = 21_000"
   ]
  },
  {
   "cell_type": "markdown",
   "id": "22a5936c",
   "metadata": {},
   "source": [
    "Set up the EVM"
   ]
  },
  {
   "cell_type": "code",
   "execution_count": 69,
   "id": "ecb05fe2",
   "metadata": {},
   "outputs": [],
   "source": [
    "evm = EVM(SIMPLE_ADD, GAS, 0)"
   ]
  },
  {
   "cell_type": "markdown",
   "id": "42b8dd02",
   "metadata": {},
   "source": [
    "Run it!"
   ]
  },
  {
   "cell_type": "code",
   "execution_count": null,
   "id": "329276d5",
   "metadata": {},
   "outputs": [],
   "source": [
    "evm.run()"
   ]
  },
  {
   "cell_type": "markdown",
   "id": "eee75486",
   "metadata": {},
   "source": [
    "Take a look at the result"
   ]
  },
  {
   "cell_type": "code",
   "execution_count": 71,
   "id": "b6b6da94",
   "metadata": {},
   "outputs": [
    {
     "name": "stdout",
     "output_type": "stream",
     "text": [
      "321 <first\n"
     ]
    }
   ],
   "source": [
    "print(evm.stack)"
   ]
  },
  {
   "cell_type": "markdown",
   "id": "832fbc70",
   "metadata": {},
   "source": [
    "Some more examples you can try out\n",
    "\n"
   ]
  },
  {
   "cell_type": "code",
   "execution_count": 1,
   "id": "380eb1c9",
   "metadata": {},
   "outputs": [],
   "source": [
    "# bytecodes.py\n",
    "\n",
    "# -------------------- ADD --------------------\n",
    "\n",
    "SIMPLE_ADD      = [0x60, 0x42, 0x60, 0xFF, 0x01]  #66+255=321\n",
    "\n",
    "ADD_OVERFLOW    = [0x7F] + [0xFF]*32 + [0x60, 0x01, 0x01]\n",
    "# (2^256-1 + 1) mod 2^256 = 0\n",
    "\n",
    "\n",
    "# -------------------- SUB --------------------\n",
    "\n",
    "SIMPLE_SUB      = [0x60, 0x05, 0x60, 0x10, 0x03]\n",
    "#  16 - 5 = 11\n",
    "\n",
    "SUB_UNDERFLOW   = [0x60, 0xFF, 0x60, 0x0F, 0x03]\n",
    "#15 - 255 = -240 mod 2^256\n",
    "\n",
    "\n",
    "# -------------------- MUL --------------------\n",
    "\n",
    "SIMPLE_MUL      = [0x60, 0x14, 0x60, 0x0A, 0x02]\n",
    "# 20*10=200\n",
    "\n",
    "MUL_BY_ZERO     = [0x60, 0x42, 0x60, 0x00, 0x02]\n",
    "#  66*0 = 0\n",
    "\n",
    "MUL_BY_ONE      = [0x60, 0x42, 0x60, 0x01, 0x02]\n",
    "# 66*1=66\n",
    "\n",
    "MUL_BIG_SMALL   = [0x60, 0x02, 0x7F] + [0xFF]*32 + [0x02]\n",
    "# (2^256-1)*2 = 2^257-2 ≡ 2^256-2\n",
    "\n",
    "MUL_MAX         = [0x7F] + [0xFF]*32 + [0x7F] + [0xFF]*32 + [0x02]\n",
    "# (2^256-1)*(2^256-1) = 2^512 - 2^257 + 1 → mod 2^256 = 1\n",
    "\n",
    "\n",
    "# -------------------- DIV --------------------\n",
    "\n",
    "SIMPLE_DIV      = [0x60, 0x0A, 0x60, 0x64, 0x04]\n",
    "#  100 / 10 = 10\n",
    "\n",
    "DIV_BY_ZERO     = [0x60, 0x00, 0x60, 0x02, 0x04]\n",
    "# 2/0 = 0\n",
    "\n",
    "\n",
    "# -------------------- SDIV --------------------\n",
    "\n",
    "SIMPLE_SDIV     = [0x60, 0x02, 0x60, 0x0A, 0x05]\n",
    "#  signed 10/2 = 5\n",
    "\n",
    "SDIV_ZERO       = [0x60, 0x00, 0x60, 0x0A, 0x05]\n",
    "#division by 0 = 0\n",
    "\n",
    "SDIV_NEG_POS    = [0x60, 0x05, 0x7F] + [0xFF]*32 + [0x05]\n",
    "# (-1)/5 = 0 (truncates toward 0)\n",
    "\n",
    "\n",
    "# -------------------- MOD --------------------\n",
    "\n",
    "SIMPLE_MOD      = [0x60, 0x05, 0x60, 0x0D, 0x06]\n",
    "# 13 % 5 = 3\n",
    "\n",
    "\n",
    "# -------------------- EXP --------------------\n",
    "\n",
    "SIMPLE_EXP      = [0x60, 0x05, 0x60, 0x02, 0x0A]\n",
    "#2**5=32\n",
    "\n",
    "EXP_ZERO = [0x60, 0x00, 0x60, 0x05, 0x0A]   #5^0=1\n",
    "EXP_OVERFLOW = [0x60, 0xFF, 0x60, 0x02, 0x0A]  #2^255 mod 2^256\n",
    "\n",
    "\n",
    "\n",
    "ADDMOD_SIMPLE = [0x60, 0x07, 0x60, 0x05, 0x60, 0x03, 0x08]\n",
    "ADDMOD_ZERO_MOD = [0x60, 0x00, 0x60, 0x07, 0x60, 0x05, 0x08]\n",
    "ADDMOD_OVERFLOW_10 = [0x60, 0x0A, 0x7F] + [0xFF]*32 + [0x60, 0x01, 0x08]"
   ]
  },
  {
   "cell_type": "markdown",
   "id": "b7516eae",
   "metadata": {},
   "source": [
    "Congratulations on making it this far! You've successfully built a working foundation and gained hands-on experience with the core concepts of EVM. From here, you might explore additional opcodes beyond what we've covered, dive deeper into the complete implementation code, or experiment with creative ideas of your own."
   ]
  }
 ],
 "metadata": {
  "kernelspec": {
   "display_name": "Python 3",
   "language": "python",
   "name": "python3"
  },
  "language_info": {
   "codemirror_mode": {
    "name": "ipython",
    "version": 3
   },
   "file_extension": ".py",
   "mimetype": "text/x-python",
   "name": "python",
   "nbconvert_exporter": "python",
   "pygments_lexer": "ipython3",
   "version": "3.12.3"
  }
 },
 "nbformat": 4,
 "nbformat_minor": 5
}
