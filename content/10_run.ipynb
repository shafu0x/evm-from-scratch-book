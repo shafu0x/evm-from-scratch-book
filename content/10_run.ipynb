{
 "cells": [
  {
   "cell_type": "code",
   "execution_count": null,
   "id": "3e486478",
   "metadata": {
    "vscode": {
     "languageId": "rust"
    }
   },
   "outputs": [],
   "source": [
    "// List of notebooks\n",
    "let notebooks = [\"08_evm.ipynb\", \"09_bytecode.ipynb\"];\n",
    "\n",
    "// Call the import function\n",
    "import_notebooks(&notebooks);"
   ]
  },
  {
   "cell_type": "markdown",
   "id": "c16be999-d39a-4e62-b342-3518cc1c4ba6",
   "metadata": {},
   "source": [
    "# Run"
   ]
  },
  {
   "cell_type": "code",
   "execution_count": null,
   "id": "d2f28323",
   "metadata": {
    "vscode": {
     "languageId": "rust"
    }
   },
   "outputs": [],
   "source": [
    "const GAS: u64 = 21_000;"
   ]
  },
  {
   "cell_type": "markdown",
   "id": "22a5936c",
   "metadata": {},
   "source": [
    "Set up the EVM"
   ]
  },
  {
   "cell_type": "code",
   "execution_count": null,
   "id": "ecb05fe2",
   "metadata": {
    "vscode": {
     "languageId": "rust"
    }
   },
   "outputs": [],
   "source": [
    "let mut evm = EVM::new(SIMPLE_ADD.to_vec(), GAS, 0, vec![]);"
   ]
  },
  {
   "cell_type": "markdown",
   "id": "42b8dd02",
   "metadata": {},
   "source": [
    "Run it!"
   ]
  },
  {
   "cell_type": "code",
   "execution_count": null,
   "id": "329276d5",
   "metadata": {
    "vscode": {
     "languageId": "rust"
    }
   },
   "outputs": [],
   "source": [
    "evm.run();"
   ]
  },
  {
   "cell_type": "markdown",
   "id": "eee75486",
   "metadata": {},
   "source": [
    "Take a look at the result"
   ]
  },
  {
   "cell_type": "code",
   "execution_count": null,
   "id": "b6b6da94",
   "metadata": {
    "vscode": {
     "languageId": "rust"
    }
   },
   "outputs": [
    {
     "name": "stdout",
     "output_type": "stream",
     "text": [
      "321 <first\n"
     ]
    }
   ],
   "source": [
    "println!(\"{:?}\", evm.stack);"
   ]
  }
 ],
 "metadata": {
  "kernelspec": {
   "display_name": "Python 3 (ipykernel)",
   "language": "python",
   "name": "python3"
  },
  "language_info": {
   "codemirror_mode": {
    "name": "ipython",
    "version": 3
   },
   "file_extension": ".py",
   "mimetype": "text/x-python",
   "name": "python",
   "nbconvert_exporter": "python",
   "pygments_lexer": "ipython3",
   "version": "3.9.6"
  }
 },
 "nbformat": 4,
 "nbformat_minor": 5
}
