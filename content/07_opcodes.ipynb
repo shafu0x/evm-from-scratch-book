{
 "cells": [
  {
   "cell_type": "markdown",
   "id": "93683266",
   "metadata": {},
   "source": [
    "# Opcodes"
   ]
  },
  {
   "cell_type": "markdown",
   "id": "8d84263e",
   "metadata": {},
   "source": [
    "Opcodes are the instructions that the EVM can execute. There are different categories of opcodes. Some of them are arithmetic or logic operations. Others deal with memory, storage and the stack."
   ]
  },
  {
   "cell_type": "markdown",
   "id": "34539b2f",
   "metadata": {},
   "source": [
    "## Implementation"
   ]
  },
  {
   "cell_type": "markdown",
   "id": "0a2fe40b",
   "metadata": {},
   "source": [
    "In the following notebooks we will implement most of these opcodes. \n",
    "All opcodes have one thing in common. They manipulate the current state of the EVM. That is why we will create a function for each of them, that takes an EVM instance as parameter.\n",
    "\n",
    "Every opcode function will be structured like this.\n",
    "\n",
    "```\n",
    "def opcode(evm):\n",
    "    # manipulate the evm\n",
    "    # ...\n",
    "```  "
   ]
  },
  {
   "cell_type": "markdown",
   "id": "2b2a981a",
   "metadata": {},
   "source": [
    "Each opcode has a unique identifier. A number that represents that opcode. Because all opcodes are not larger than 1 byte it is very convenient to denote them in hexadecimal."
   ]
  },
  {
   "cell_type": "markdown",
   "id": "70e5a1cf",
   "metadata": {},
   "source": [
    "To make it easier for us to deal with opcodes we give them a short descriptive name. All opcodes can be found here."
   ]
  },
  {
   "cell_type": "code",
   "execution_count": 2,
   "id": "83170f18",
   "metadata": {},
   "outputs": [],
   "source": [
    "STOP = 0x0"
   ]
  },
  {
   "cell_type": "markdown",
   "id": "7b2875e6",
   "metadata": {},
   "source": [
    "## Math"
   ]
  },
  {
   "cell_type": "code",
   "execution_count": null,
   "id": "0ecad830",
   "metadata": {},
   "outputs": [],
   "source": [
    "ADD        = 0x1\n",
    "MUL        = 0x2\n",
    "SUB        = 0x3\n",
    "DIV        = 0x4\n",
    "SDIV       = 0x5\n",
    "MOD        = 0x6\n",
    "SMOD       = 0x7\n",
    "ADDMOD     = 0x8\n",
    "MULMOD     = 0x9\n",
    "EXP        = 0xA\n",
    "SIGNEXTEND = 0xB"
   ]
  },
  {
   "cell_type": "markdown",
   "id": "78df0426",
   "metadata": {},
   "source": [
    "## Comparisons"
   ]
  },
  {
   "cell_type": "code",
   "execution_count": null,
   "id": "4ea12852",
   "metadata": {},
   "outputs": [],
   "source": [
    "LT     = 0x10\n",
    "GT     = 0x11\n",
    "SLT    = 0x12\n",
    "SGT    = 0x13\n",
    "EQ     = 0x14\n",
    "ISZERO = 0x15"
   ]
  },
  {
   "cell_type": "markdown",
   "id": "d5f18901",
   "metadata": {},
   "source": [
    "## Logic"
   ]
  },
  {
   "cell_type": "code",
   "execution_count": 3,
   "id": "ffe7e2a1",
   "metadata": {},
   "outputs": [],
   "source": [
    "AND = 0x16\n",
    "OR  = 0x17\n",
    "XOR = 0x18\n",
    "NOT = 0x19"
   ]
  },
  {
   "cell_type": "markdown",
   "id": "07a82493",
   "metadata": {},
   "source": [
    "## Bit Ops"
   ]
  },
  {
   "cell_type": "code",
   "execution_count": null,
   "id": "9a732b20",
   "metadata": {},
   "outputs": [],
   "source": [
    "BYTE = 0x1A\n",
    "SHL  = 0x1B\n",
    "SHR  = 0x1C\n",
    "SAR  = 0x1D"
   ]
  },
  {
   "cell_type": "markdown",
   "id": "c9a71e0d",
   "metadata": {},
   "source": [
    "## Misc"
   ]
  },
  {
   "cell_type": "code",
   "execution_count": 4,
   "id": "d820a0e6",
   "metadata": {},
   "outputs": [],
   "source": [
    "SHA3 = 0x20"
   ]
  },
  {
   "cell_type": "markdown",
   "id": "816d1246",
   "metadata": {},
   "source": [
    "## Ethereum State"
   ]
  },
  {
   "cell_type": "code",
   "execution_count": 5,
   "id": "77c3d31c",
   "metadata": {},
   "outputs": [],
   "source": [
    "ADDRESS        = 0x30\n",
    "BALANCE        = 0x31\n",
    "ORIGIN         = 0x32\n",
    "CALLER         = 0x33\n",
    "CALLVALUE      = 0x34\n",
    "CALLDATALOAD   = 0x35\n",
    "CALLDATASIZE   = 0x36\n",
    "CALLDATACOPY   = 0x37\n",
    "CODESIZE       = 0x38\n",
    "CODECOPY       = 0x39\n",
    "GASPRICE       = 0x3A\n",
    "EXTCODESIZE    = 0x3B\n",
    "EXTCODECOPY    = 0x3C\n",
    "RETURNDATASIZE = 0x3D\n",
    "RETURNDATACOPY = 0x3E\n",
    "EXTCODEHASH    = 0x3F\n",
    "BLOCKHASH      = 0x40\n",
    "COINBASE       = 0x41\n",
    "TIMESTAMP      = 0x42\n",
    "NUMBER         = 0x43\n",
    "DIFFICULTY     = 0x44\n",
    "GASLIMIT       = 0x45\n",
    "CHAINID        = 0x46\n",
    "SELFBALANCE    = 0x47\n",
    "BASEFEE        = 0x48"
   ]
  },
  {
   "cell_type": "markdown",
   "id": "c6967f86",
   "metadata": {},
   "source": [
    "## Pop"
   ]
  },
  {
   "cell_type": "code",
   "execution_count": 7,
   "id": "5d439c18",
   "metadata": {},
   "outputs": [],
   "source": [
    "POP = 0x50"
   ]
  },
  {
   "cell_type": "markdown",
   "id": "6c60105e",
   "metadata": {},
   "source": [
    "## Memory"
   ]
  },
  {
   "cell_type": "code",
   "execution_count": 6,
   "id": "880d1492",
   "metadata": {},
   "outputs": [],
   "source": [
    "MLOAD   = 0x51\n",
    "MSTORE  = 0x52\n",
    "MSTORE8 = 0x53"
   ]
  },
  {
   "cell_type": "markdown",
   "id": "216248bd",
   "metadata": {},
   "source": [
    "## Storage"
   ]
  },
  {
   "cell_type": "code",
   "execution_count": null,
   "id": "cc1d9107",
   "metadata": {},
   "outputs": [],
   "source": [
    "SLOAD  = 0x54\n",
    "SSTORE = 0x55"
   ]
  },
  {
   "cell_type": "markdown",
   "id": "86bf3932",
   "metadata": {},
   "source": [
    "## Jump"
   ]
  },
  {
   "cell_type": "code",
   "execution_count": null,
   "id": "df3f3876",
   "metadata": {},
   "outputs": [],
   "source": [
    "JUMP     = 0x56\n",
    "JUMPI    = 0x57\n",
    "PC       = 0x58\n",
    "JUMPDEST = 0x5B"
   ]
  },
  {
   "cell_type": "markdown",
   "id": "72207b23",
   "metadata": {},
   "source": [
    "## Transient Storage"
   ]
  },
  {
   "cell_type": "code",
   "execution_count": null,
   "id": "2c779167",
   "metadata": {},
   "outputs": [],
   "source": [
    "TLOAD  = 0x5c\n",
    "TSTORE = 0x5d"
   ]
  },
  {
   "cell_type": "markdown",
   "id": "5f4b87bb",
   "metadata": {},
   "source": [
    "## Push"
   ]
  },
  {
   "cell_type": "code",
   "execution_count": 11,
   "id": "b9dda488",
   "metadata": {},
   "outputs": [],
   "source": [
    "PUSH1  = 0x60\n",
    "PUSH2  = 0x61\n",
    "PUSH3  = 0x62\n",
    "PUSH4  = 0x63\n",
    "PUSH5  = 0x64\n",
    "PUSH6  = 0x65\n",
    "PUSH7  = 0x66\n",
    "PUSH8  = 0x67\n",
    "PUSH9  = 0x68\n",
    "PUSH10 = 0x69\n",
    "PUSH11 = 0x6A\n",
    "PUSH12 = 0x6B\n",
    "PUSH13 = 0x6C\n",
    "PUSH14 = 0x6D\n",
    "PUSH15 = 0x6E\n",
    "PUSH16 = 0x6F\n",
    "PUSH17 = 0x70\n",
    "PUSH18 = 0x71\n",
    "PUSH19 = 0x72\n",
    "PUSH20 = 0x73\n",
    "PUSH21 = 0x74\n",
    "PUSH22 = 0x75\n",
    "PUSH23 = 0x76\n",
    "PUSH24 = 0x77\n",
    "PUSH25 = 0x78\n",
    "PUSH26 = 0x79\n",
    "PUSH27 = 0x7A\n",
    "PUSH28 = 0x7B\n",
    "PUSH29 = 0x7C\n",
    "PUSH30 = 0x7D\n",
    "PUSH31 = 0x7E\n",
    "PUSH32 = 0x7F"
   ]
  },
  {
   "cell_type": "markdown",
   "id": "6652ada9",
   "metadata": {},
   "source": [
    "## Dup"
   ]
  },
  {
   "cell_type": "code",
   "execution_count": 12,
   "id": "18c6e09b",
   "metadata": {},
   "outputs": [],
   "source": [
    "DUP1  = 0x80\n",
    "DUP2  = 0x81\n",
    "DUP3  = 0x82\n",
    "DUP4  = 0x83\n",
    "DUP5  = 0x84\n",
    "DUP6  = 0x85\n",
    "DUP7  = 0x86\n",
    "DUP8  = 0x87\n",
    "DUP9  = 0x88\n",
    "DUP10 = 0x89\n",
    "DUP11 = 0x8A\n",
    "DUP12 = 0x8B\n",
    "DUP13 = 0x8C\n",
    "DUP14 = 0x8D\n",
    "DUP15 = 0x8E\n",
    "DUP16 = 0x8F"
   ]
  },
  {
   "cell_type": "markdown",
   "id": "921973a3",
   "metadata": {},
   "source": [
    "## Swap"
   ]
  },
  {
   "cell_type": "code",
   "execution_count": 13,
   "id": "48a81485",
   "metadata": {},
   "outputs": [],
   "source": [
    "SWAP1  = 0x90\n",
    "SWAP2  = 0x91\n",
    "SWAP3  = 0x92\n",
    "SWAP4  = 0x93\n",
    "SWAP5  = 0x94\n",
    "SWAP6  = 0x95\n",
    "SWAP7  = 0x96\n",
    "SWAP8  = 0x97\n",
    "SWAP9  = 0x98\n",
    "SWAP10 = 0x99\n",
    "SWAP11 = 0x9A\n",
    "SWAP12 = 0x9B\n",
    "SWAP13 = 0x9C\n",
    "SWAP14 = 0x9D\n",
    "SWAP15 = 0x9E\n",
    "SWAP16 = 0x9F"
   ]
  },
  {
   "cell_type": "markdown",
   "id": "e43b1018",
   "metadata": {},
   "source": [
    "## Log"
   ]
  },
  {
   "cell_type": "code",
   "execution_count": 14,
   "id": "3004b2f2",
   "metadata": {},
   "outputs": [],
   "source": [
    "LOG0 = 0xA0\n",
    "LOG1 = 0xA1\n",
    "LOG2 = 0xA2\n",
    "LOG3 = 0xA3\n",
    "LOG4 = 0xA4"
   ]
  },
  {
   "cell_type": "markdown",
   "id": "dd2d5f7c",
   "metadata": {},
   "source": [
    "## Contract"
   ]
  },
  {
   "cell_type": "code",
   "execution_count": 15,
   "id": "897e4fc5",
   "metadata": {},
   "outputs": [],
   "source": [
    "CREATE       = 0xF0\n",
    "CALL         = 0xF1\n",
    "CALLCODE     = 0xF2 # legacy NOT supported by us, fixed by DELEGATECALL\n",
    "RETURN       = 0xF3\n",
    "DELEGATECALL = 0xF4\n",
    "CREATE2      = 0xF5\n",
    "STATICCALL   = 0xFA\n",
    "REVERT       = 0xFD\n",
    "INVALID      = 0xFE\n",
    "SELFDESTRUCT = 0xFF"
   ]
  }
 ],
 "metadata": {
  "kernelspec": {
   "display_name": "Python 3 (ipykernel)",
   "language": "python",
   "name": "python3"
  },
  "language_info": {
   "codemirror_mode": {
    "name": "ipython",
    "version": 3
   },
   "file_extension": ".py",
   "mimetype": "text/x-python",
   "name": "python",
   "nbconvert_exporter": "python",
   "pygments_lexer": "ipython3",
   "version": "3.8.9"
  }
 },
 "nbformat": 4,
 "nbformat_minor": 5
}
