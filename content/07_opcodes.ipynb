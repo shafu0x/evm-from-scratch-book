{
 "cells": [
  {
   "cell_type": "markdown",
   "id": "93683266",
   "metadata": {},
   "source": [
    "# Opcodes"
   ]
  },
  {
   "cell_type": "markdown",
   "id": "8d84263e",
   "metadata": {},
   "source": [
    "Opcodes are the instructions that the EVM can execute. There are different categories of opcodes. Some of them are arithmetic or logic operations. Others deal with memory, storage and the stack."
   ]
  },
  {
   "cell_type": "markdown",
   "id": "34539b2f",
   "metadata": {},
   "source": [
    "## Implementation"
   ]
  },
  {
   "cell_type": "markdown",
   "id": "0a2fe40b",
   "metadata": {},
   "source": [
    "In the following notebooks we will implement most of these opcodes. \n",
    "All opcodes have one thing in common. They manipulate the current state of the EVM. That is why we will create a function for each of them, that takes an EVM instance as parameter.\n",
    "\n",
    "Every opcode function will be structured like this.\n",
    "\n",
    "```\n",
    "fn opcode(evm: &mut State) {\n",
    "    // manipulate the evm\n",
    "    // ...\n",
    "}\n",
    "```  "
   ]
  },
  {
   "cell_type": "markdown",
   "id": "2b2a981a",
   "metadata": {},
   "source": [
    "Each opcode has a unique identifier. A number that represents that opcode. Because all opcodes are not larger than 1 byte it is very convenient to denote them in hexadecimal."
   ]
  },
  {
   "cell_type": "markdown",
   "id": "70e5a1cf",
   "metadata": {},
   "source": [
    "To make it easier for us to deal with opcodes we give them a short descriptive name. All opcodes can be found here."
   ]
  },
  {
   "cell_type": "code",
   "execution_count": null,
   "id": "83170f18",
   "metadata": {
    "vscode": {
     "languageId": "rust"
    }
   },
   "outputs": [],
   "source": [
    "const STOP: u8 = 0x00;"
   ]
  },
  {
   "cell_type": "markdown",
   "id": "7b2875e6",
   "metadata": {},
   "source": [
    "## Math"
   ]
  },
  {
   "cell_type": "code",
   "execution_count": null,
   "id": "0ecad830",
   "metadata": {
    "vscode": {
     "languageId": "rust"
    }
   },
   "outputs": [],
   "source": [
    "const ADD:        u8 = 0x01;\n",
    "const MUL:        u8 = 0x02;\n",
    "const SUB:        u8 = 0x03;\n",
    "const DIV:        u8 = 0x04;\n",
    "const SDIV:       u8 = 0x05;\n",
    "const MOD:        u8 = 0x06;\n",
    "const SMOD:       u8 = 0x07;\n",
    "const ADDMOD:     u8 = 0x08;\n",
    "const MULMOD:     u8 = 0x09;\n",
    "const EXP:        u8 = 0x0A;\n",
    "const SIGNEXTEND: u8 = 0x0B;"
   ]
  },
  {
   "cell_type": "markdown",
   "id": "78df0426",
   "metadata": {},
   "source": [
    "## Comparisons"
   ]
  },
  {
   "cell_type": "code",
   "execution_count": null,
   "id": "4ea12852",
   "metadata": {
    "vscode": {
     "languageId": "rust"
    }
   },
   "outputs": [],
   "source": [
    "pub const LT: u8     = 0x10;\n",
    "pub const GT: u8     = 0x11;\n",
    "pub const SLT: u8    = 0x12;\n",
    "pub const SGT: u8    = 0x13;\n",
    "pub const EQ: u8     = 0x14;\n",
    "pub const ISZERO: u8 = 0x15;"
   ]
  },
  {
   "cell_type": "markdown",
   "id": "d5f18901",
   "metadata": {},
   "source": [
    "## Logic"
   ]
  },
  {
   "cell_type": "code",
   "execution_count": null,
   "id": "ffe7e2a1",
   "metadata": {
    "vscode": {
     "languageId": "rust"
    }
   },
   "outputs": [],
   "source": [
    "pub const AND: u8 = 0x16;\n",
    "pub const OR:  u8 = 0x17;\n",
    "pub const XOR: u8 = 0x18;\n",
    "pub const NOT: u8 = 0x19;"
   ]
  },
  {
   "cell_type": "markdown",
   "id": "07a82493",
   "metadata": {},
   "source": [
    "## Bit Ops"
   ]
  },
  {
   "cell_type": "code",
   "execution_count": null,
   "id": "9a732b20",
   "metadata": {
    "vscode": {
     "languageId": "rust"
    }
   },
   "outputs": [],
   "source": [
    "pub const BYTE: u8 = 0x1A;\n",
    "pub const SHL:  u8 = 0x1B;\n",
    "pub const SHR:  u8 = 0x1C;\n",
    "pub const SAR:  u8 = 0x1D;"
   ]
  },
  {
   "cell_type": "markdown",
   "id": "c9a71e0d",
   "metadata": {},
   "source": [
    "## Misc"
   ]
  },
  {
   "cell_type": "code",
   "execution_count": null,
   "id": "d820a0e6",
   "metadata": {
    "vscode": {
     "languageId": "rust"
    }
   },
   "outputs": [],
   "source": [
    "pub const SHA3: u8 = 0x20;"
   ]
  },
  {
   "cell_type": "markdown",
   "id": "816d1246",
   "metadata": {},
   "source": [
    "## Ethereum State"
   ]
  },
  {
   "cell_type": "code",
   "execution_count": null,
   "id": "77c3d31c",
   "metadata": {
    "vscode": {
     "languageId": "rust"
    }
   },
   "outputs": [],
   "source": [
    "pub const ADDRESS:         u8 = 0x30;\n",
    "pub const BALANCE:         u8 = 0x31;\n",
    "pub const ORIGIN:          u8 = 0x32;\n",
    "pub const CALLER:          u8 = 0x33;\n",
    "pub const CALLVALUE:       u8 = 0x34;\n",
    "pub const CALLDATALOAD:    u8 = 0x35;\n",
    "pub const CALLDATASIZE:    u8 = 0x36;\n",
    "pub const CALLDATACOPY:    u8 = 0x37;\n",
    "pub const CODESIZE:        u8 = 0x38;\n",
    "pub const CODECOPY:        u8 = 0x39;\n",
    "pub const GASPRICE:        u8 = 0x3A;\n",
    "pub const EXTCODESIZE:     u8 = 0x3B;\n",
    "pub const EXTCODECOPY:     u8 = 0x3C;\n",
    "pub const RETURNDATASIZE:  u8 = 0x3D;\n",
    "pub const RETURNDATACOPY:  u8 = 0x3E;\n",
    "pub const EXTCODEHASH:     u8 = 0x3F;\n",
    "pub const BLOCKHASH:       u8 = 0x40;\n",
    "pub const COINBASE:        u8 = 0x41;\n",
    "pub const TIMESTAMP:       u8 = 0x42;\n",
    "pub const NUMBER:          u8 = 0x43;\n",
    "pub const DIFFICULTY:      u8 = 0x44;\n",
    "pub const GASLIMIT:        u8 = 0x45;\n",
    "pub const CHAINID:         u8 = 0x46;\n",
    "pub const SELFBALANCE:     u8 = 0x47;\n",
    "pub const BASEFEE:         u8 = 0x48;"
   ]
  },
  {
   "cell_type": "markdown",
   "id": "c6967f86",
   "metadata": {},
   "source": [
    "## Pop"
   ]
  },
  {
   "cell_type": "code",
   "execution_count": null,
   "id": "5d439c18",
   "metadata": {
    "vscode": {
     "languageId": "rust"
    }
   },
   "outputs": [],
   "source": [
    "pub const POP: u8 = 0x50;"
   ]
  },
  {
   "cell_type": "markdown",
   "id": "6c60105e",
   "metadata": {},
   "source": [
    "## Memory"
   ]
  },
  {
   "cell_type": "code",
   "execution_count": null,
   "id": "880d1492",
   "metadata": {
    "vscode": {
     "languageId": "rust"
    }
   },
   "outputs": [],
   "source": [
    "pub const MLOAD: u8   = 0x51;\n",
    "pub const MSTORE: u8  = 0x52;\n",
    "pub const MSTORE8: u8 = 0x53;"
   ]
  },
  {
   "cell_type": "markdown",
   "id": "216248bd",
   "metadata": {},
   "source": [
    "## Storage"
   ]
  },
  {
   "cell_type": "code",
   "execution_count": null,
   "id": "cc1d9107",
   "metadata": {
    "vscode": {
     "languageId": "rust"
    }
   },
   "outputs": [],
   "source": [
    "pub const SLOAD: u8  = 0x54;\n",
    "pub const SSTORE: u8 = 0x55;"
   ]
  },
  {
   "cell_type": "markdown",
   "id": "86bf3932",
   "metadata": {},
   "source": [
    "## Jump"
   ]
  },
  {
   "cell_type": "code",
   "execution_count": null,
   "id": "df3f3876",
   "metadata": {
    "vscode": {
     "languageId": "rust"
    }
   },
   "outputs": [],
   "source": [
    "pub const JUMP: u8     = 0x56;\n",
    "pub const JUMPI: u8    = 0x57;\n",
    "pub const PC: u8       = 0x58;\n",
    "pub const JUMPDEST: u8 = 0x5B;"
   ]
  },
  {
   "cell_type": "markdown",
   "id": "72207b23",
   "metadata": {},
   "source": [
    "## Transient Storage"
   ]
  },
  {
   "cell_type": "code",
   "execution_count": null,
   "id": "2c779167",
   "metadata": {
    "vscode": {
     "languageId": "rust"
    }
   },
   "outputs": [],
   "source": [
    "pub const TLOAD: u8  = 0x5c;\n",
    "pub const TSTORE: u8 = 0x5d;"
   ]
  },
  {
   "cell_type": "markdown",
   "id": "5f4b87bb",
   "metadata": {},
   "source": [
    "## Push"
   ]
  },
  {
   "cell_type": "code",
   "execution_count": null,
   "id": "b9dda488",
   "metadata": {
    "vscode": {
     "languageId": "rust"
    }
   },
   "outputs": [],
   "source": [
    "pub const PUSH1:  u8 = 0x60;\n",
    "pub const PUSH2:  u8 = 0x61;\n",
    "pub const PUSH3:  u8 = 0x62;\n",
    "pub const PUSH4:  u8 = 0x63;\n",
    "pub const PUSH5:  u8 = 0x64;\n",
    "pub const PUSH6:  u8 = 0x65;\n",
    "pub const PUSH7:  u8 = 0x66;\n",
    "pub const PUSH8:  u8 = 0x67;\n",
    "pub const PUSH9:  u8 = 0x68;\n",
    "pub const PUSH10: u8 = 0x69;\n",
    "pub const PUSH11: u8 = 0x6A;\n",
    "pub const PUSH12: u8 = 0x6B;\n",
    "pub const PUSH13: u8 = 0x6C;\n",
    "pub const PUSH14: u8 = 0x6D;\n",
    "pub const PUSH15: u8 = 0x6E;\n",
    "pub const PUSH16: u8 = 0x6F;\n",
    "pub const PUSH17: u8 = 0x70;\n",
    "pub const PUSH18: u8 = 0x71;\n",
    "pub const PUSH19: u8 = 0x72;\n",
    "pub const PUSH20: u8 = 0x73;\n",
    "pub const PUSH21: u8 = 0x74;\n",
    "pub const PUSH22: u8 = 0x75;\n",
    "pub const PUSH23: u8 = 0x76;\n",
    "pub const PUSH24: u8 = 0x77;\n",
    "pub const PUSH25: u8 = 0x78;\n",
    "pub const PUSH26: u8 = 0x79;\n",
    "pub const PUSH27: u8 = 0x7A;\n",
    "pub const PUSH28: u8 = 0x7B;\n",
    "pub const PUSH29: u8 = 0x7C;\n",
    "pub const PUSH30: u8 = 0x7D;\n",
    "pub const PUSH31: u8 = 0x7E;\n",
    "pub const PUSH32: u8 = 0x7F;"
   ]
  },
  {
   "cell_type": "markdown",
   "id": "6652ada9",
   "metadata": {},
   "source": [
    "## Dup"
   ]
  },
  {
   "cell_type": "code",
   "execution_count": null,
   "id": "18c6e09b",
   "metadata": {
    "vscode": {
     "languageId": "rust"
    }
   },
   "outputs": [],
   "source": [
    "pub const DUP1: u8  = 0x80;\n",
    "pub const DUP2: u8  = 0x81;\n",
    "pub const DUP3: u8  = 0x82;\n",
    "pub const DUP4: u8  = 0x83;\n",
    "pub const DUP5: u8  = 0x84;\n",
    "pub const DUP6: u8  = 0x85;\n",
    "pub const DUP7: u8  = 0x86;\n",
    "pub const DUP8: u8  = 0x87;\n",
    "pub const DUP9: u8  = 0x88;\n",
    "pub const DUP10: u8 = 0x89;\n",
    "pub const DUP11: u8 = 0x8A;\n",
    "pub const DUP12: u8 = 0x8B;\n",
    "pub const DUP13: u8 = 0x8C;\n",
    "pub const DUP14: u8 = 0x8D;\n",
    "pub const DUP15: u8 = 0x8E;\n",
    "pub const DUP16: u8 = 0x8F;"
   ]
  },
  {
   "cell_type": "markdown",
   "id": "921973a3",
   "metadata": {},
   "source": [
    "## Swap"
   ]
  },
  {
   "cell_type": "code",
   "execution_count": null,
   "id": "48a81485",
   "metadata": {
    "vscode": {
     "languageId": "rust"
    }
   },
   "outputs": [],
   "source": [
    "pub const SWAP1: u8 = 0x90;\n",
    "pub const SWAP2: u8 = 0x91;\n",
    "pub const SWAP3: u8 = 0x92;\n",
    "pub const SWAP4: u8 = 0x93;\n",
    "pub const SWAP5: u8 = 0x94;\n",
    "pub const SWAP6: u8 = 0x95;\n",
    "pub const SWAP7: u8 = 0x96;\n",
    "pub const SWAP8: u8 = 0x97;\n",
    "pub const SWAP9: u8 = 0x98;\n",
    "pub const SWAP10: u8 = 0x99;\n",
    "pub const SWAP11: u8 = 0x9A;\n",
    "pub const SWAP12: u8 = 0x9B;\n",
    "pub const SWAP13: u8 = 0x9C;\n",
    "pub const SWAP14: u8 = 0x9D;\n",
    "pub const SWAP15: u8 = 0x9E;\n",
    "pub const SWAP16: u8 = 0x9F;"
   ]
  },
  {
   "cell_type": "markdown",
   "id": "e43b1018",
   "metadata": {},
   "source": [
    "## Log"
   ]
  },
  {
   "cell_type": "code",
   "execution_count": null,
   "id": "3004b2f2",
   "metadata": {
    "vscode": {
     "languageId": "rust"
    }
   },
   "outputs": [],
   "source": [
    "pub const LOG0: u8 = 0xA0;\n",
    "pub const LOG1: u8 = 0xA1;\n",
    "pub const LOG2: u8 = 0xA2;\n",
    "pub const LOG3: u8 = 0xA3;\n",
    "pub const LOG4: u8 = 0xA4;"
   ]
  },
  {
   "cell_type": "markdown",
   "id": "dd2d5f7c",
   "metadata": {},
   "source": [
    "## Contract"
   ]
  },
  {
   "cell_type": "code",
   "execution_count": null,
   "id": "897e4fc5",
   "metadata": {
    "vscode": {
     "languageId": "rust"
    }
   },
   "outputs": [],
   "source": [
    "pub const CREATE: u8       = 0xF0;\n",
    "pub const CALL: u8         = 0xF1;\n",
    "pub const CALLCODE: u8     = 0xF2; // legacy NOT supported by us, fixed by DELEGATECALL\n",
    "pub const RETURN: u8       = 0xF3;\n",
    "pub const DELEGATECALL: u8 = 0xF4;\n",
    "pub const CREATE2: u8      = 0xF5;\n",
    "pub const STATICCALL: u8   = 0xFA;\n",
    "pub const REVERT: u8       = 0xFD;\n",
    "pub const INVALID: u8      = 0xFE;\n",
    "pub const SELFDESTRUCT: u8 = 0xFF;"
   ]
  }
 ],
 "metadata": {
  "kernelspec": {
   "display_name": "Python 3 (ipykernel)",
   "language": "python",
   "name": "python3"
  },
  "language_info": {
   "codemirror_mode": {
    "name": "ipython",
    "version": 3
   },
   "file_extension": ".py",
   "mimetype": "text/x-python",
   "name": "python",
   "nbconvert_exporter": "python",
   "pygments_lexer": "ipython3",
   "version": "3.9.6"
  }
 },
 "nbformat": 4,
 "nbformat_minor": 5
}
