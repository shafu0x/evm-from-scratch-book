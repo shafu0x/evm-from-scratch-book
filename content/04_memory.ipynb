{
 "cells": [
  {
   "cell_type": "markdown",
   "id": "e2d12443",
   "metadata": {},
   "source": [
    "# Memory"
   ]
  },
  {
   "cell_type": "markdown",
   "id": "fca10ea3",
   "metadata": {},
   "source": [
    "The Memory is a list of bytes. Each byte can be accessed individually.\n",
    "\n",
    "Similar to RAM, it starts of by being completely empty. It is also volatile, which means that after execution the memory is reset."
   ]
  },
  {
   "cell_type": "markdown",
   "id": "871d2d0a",
   "metadata": {},
   "source": [
    "Each memory cell can hold 1 byte (8 bits). A number between 0 and 255."
   ]
  },
  {
   "cell_type": "markdown",
   "id": "a204fbf0",
   "metadata": {},
   "source": [
    "![title](../static/memory.png)"
   ]
  },
  {
   "cell_type": "markdown",
   "id": "21a5fe4e",
   "metadata": {},
   "source": [
    "We will represent Memory as a simple list that can be accessed by an index or `offset`. \n",
    "\n",
    "An offset of `2` would mean that we get the byte stored at index `2`. Combined with a `size` we can get a block of bytes. Offset `2` and size `5` would return the bytes from index `2` to index `7`."
   ]
  },
  {
   "cell_type": "code",
   "execution_count": null,
   "id": "cd8a1b8c",
   "metadata": {
    "vscode": {
     "languageId": "rust"
    }
   },
   "outputs": [],
   "source": [
    "struct Memory {\n",
    "    memory: Vec<u8>,\n",
    "}\n",
    "\n",
    "impl Memory {\n",
    "    fn new() -> Self {\n",
    "        Memory { memory: vec![] }\n",
    "    }\n",
    "\n",
    "    fn access(&self, offset: usize, size: usize) -> &[u8] {\n",
    "        &self.memory[offset..offset + size]\n",
    "    }\n",
    "\n",
    "    fn load(&self, offset: usize) -> &[u8] {\n",
    "        self.access(offset, 32)\n",
    "    }\n",
    "\n",
    "    fn store(&mut self, offset: usize, value: &[u8]) {\n",
    "        let end = offset + value.len();\n",
    "\n",
    "        if end > self.memory.len() {\n",
    "            self.memory.resize(end, 0);\n",
    "        }\n",
    "\n",
    "        self.memory[offset..end].copy_from_slice(value);\n",
    "    }\n",
    "}"
   ]
  },
  {
   "cell_type": "markdown",
   "id": "e3d93387",
   "metadata": {},
   "source": [
    "Expanding the size of Memory consumes gas non-linearly. Making it more costly to create larger and larger Memory space."
   ]
  },
  {
   "cell_type": "markdown",
   "id": "ed4d85a5",
   "metadata": {},
   "source": [
    "Lets add the gas expansion calculation to the Memory"
   ]
  },
  {
   "cell_type": "code",
   "execution_count": null,
   "id": "d29147a2",
   "metadata": {
    "vscode": {
     "languageId": "rust"
    }
   },
   "outputs": [],
   "source": [
    "struct Memory {\n",
    "    memory: Vec<u8>,\n",
    "}\n",
    "\n",
    "impl Memory {\n",
    "    fn new() -> Self {\n",
    "        Memory { memory: vec![] }\n",
    "    }\n",
    "\n",
    "    fn store(&mut self, offset: usize, value: &[u8]) -> usize {\n",
    "        let mut memory_expansion_cost = 0;\n",
    "\n",
    "        if self.memory.len() <= offset + value.len() {\n",
    "            let mut expansion_size = 0;\n",
    "\n",
    "            // initialize memory with 32 zeros if it is empty\n",
    "            if self.memory.len() == 0 {\n",
    "                expansion_size = 32;\n",
    "                self.memory = vec![0x00; 32];\n",
    "            }\n",
    "\n",
    "            // extend memory more if needed\n",
    "            if self.memory.len() < offset + value.len() {\n",
    "                expansion_size += offset + value.len() - self.memory.len();\n",
    "                self.memory.extend(std::iter::repeat(0x00).take(expansion_size));\n",
    "            }\n",
    "\n",
    "            memory_expansion_cost = expansion_size * expansion_size; // simplified!\n",
    "        }\n",
    "\n",
    "        // Call parent store behavior (same as SimpleMemory)\n",
    "        let end = offset + value.len();\n",
    "        self.memory[offset..end].copy_from_slice(value);\n",
    "\n",
    "        memory_expansion_cost\n",
    "    }\n",
    "}\n"
   ]
  },
  {
   "cell_type": "markdown",
   "id": "a8335a66",
   "metadata": {},
   "source": [
    "Lets create a some Memory"
   ]
  },
  {
   "cell_type": "code",
   "execution_count": null,
   "id": "77ec910e",
   "metadata": {
    "vscode": {
     "languageId": "rust"
    }
   },
   "outputs": [],
   "source": [
    "let mut memory = Memory::new();"
   ]
  },
  {
   "cell_type": "markdown",
   "id": "c7906768",
   "metadata": {},
   "source": [
    "We store 4 values at offset 0"
   ]
  },
  {
   "cell_type": "code",
   "execution_count": null,
   "id": "83e1343f",
   "metadata": {
    "vscode": {
     "languageId": "rust"
    }
   },
   "outputs": [],
   "source": [
    "let cost = memory.store(0, &[0x01, 0x02, 0x03, 0x04]);"
   ]
  },
  {
   "cell_type": "markdown",
   "id": "0ca7d815",
   "metadata": {},
   "source": [
    "`load` will always return 32 bytes if it can"
   ]
  },
  {
   "cell_type": "code",
   "execution_count": null,
   "id": "868202d7",
   "metadata": {
    "vscode": {
     "languageId": "rust"
    }
   },
   "outputs": [
    {
     "data": {
      "text/plain": [
       "[1,\n",
       " 2,\n",
       " 3,\n",
       " 4,\n",
       " 0,\n",
       " 0,\n",
       " 0,\n",
       " 0,\n",
       " 0,\n",
       " 0,\n",
       " 0,\n",
       " 0,\n",
       " 0,\n",
       " 0,\n",
       " 0,\n",
       " 0,\n",
       " 0,\n",
       " 0,\n",
       " 0,\n",
       " 0,\n",
       " 0,\n",
       " 0,\n",
       " 0,\n",
       " 0,\n",
       " 0,\n",
       " 0,\n",
       " 0,\n",
       " 0,\n",
       " 0,\n",
       " 0,\n",
       " 0,\n",
       " 0]"
      ]
     },
     "execution_count": 29,
     "metadata": {},
     "output_type": "execute_result"
    }
   ],
   "source": [
    "let data = memory.load(0);"
   ]
  },
  {
   "cell_type": "markdown",
   "id": "8eed2f4e",
   "metadata": {},
   "source": [
    "### Advanced"
   ]
  },
  {
   "cell_type": "markdown",
   "id": "67632091",
   "metadata": {},
   "source": [
    "This is the actual way how the gas cost for a memory expansion is calculated."
   ]
  },
  {
   "cell_type": "code",
   "execution_count": null,
   "id": "aa067152",
   "metadata": {
    "vscode": {
     "languageId": "rust"
    }
   },
   "outputs": [],
   "source": [
    "fn calc_memory_expansion_gas(memory_byte_size: usize) -> usize {\n",
    "    let memory_size_word = (memory_byte_size + 31) / 32;\n",
    "    let memory_cost = (memory_size_word * memory_size_word) / 512 + (3 * memory_size_word);\n",
    "    memory_cost\n",
    "}"
   ]
  }
 ],
 "metadata": {
  "kernelspec": {
   "display_name": "Python 3 (ipykernel)",
   "language": "python",
   "name": "python3"
  },
  "language_info": {
   "codemirror_mode": {
    "name": "ipython",
    "version": 3
   },
   "file_extension": ".py",
   "mimetype": "text/x-python",
   "name": "python",
   "nbconvert_exporter": "python",
   "pygments_lexer": "ipython3",
   "version": "3.9.6"
  }
 },
 "nbformat": 4,
 "nbformat_minor": 5
}
