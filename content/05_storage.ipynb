{
 "cells": [
  {
   "cell_type": "markdown",
   "id": "b52d942c",
   "metadata": {},
   "source": [
    "# Storage"
   ]
  },
  {
   "cell_type": "markdown",
   "id": "6b581368",
   "metadata": {},
   "source": [
    "The storage is a mapping from a `key` to a `value`. The number of keys is for all practical purposes infinite. The value can be up to 32 bytes. Every value is initialized with a 0.\n",
    "\n",
    "This is like the SSD in your computer. Storage is non-volatile."
   ]
  },
  {
   "cell_type": "markdown",
   "id": "2a9d3e0b",
   "metadata": {},
   "source": [
    "![title](../static/storage.png)"
   ]
  },
  {
   "cell_type": "markdown",
   "id": "f0d8d8db",
   "metadata": {},
   "source": [
    "source: https://docs.alchemy.com/docs/smart-contract-storage-layout"
   ]
  },
  {
   "cell_type": "markdown",
   "id": "0672532a",
   "metadata": {},
   "source": [
    "We will represent the storage as a dictionary."
   ]
  },
  {
   "cell_type": "code",
   "execution_count": null,
   "id": "c5b98bfc",
   "metadata": {
    "vscode": {
     "languageId": "rust"
    }
   },
   "outputs": [],
   "source": [
    "use std::collections::HashMap;\n",
    "\n",
    "struct KeyValue {\n",
    "    storage: HashMap<String, String>,\n",
    "}\n",
    "\n",
    "impl KeyValue {\n",
    "    fn new() -> Self {\n",
    "        KeyValue {\n",
    "            storage: HashMap::new(),\n",
    "        }\n",
    "    }\n",
    "\n",
    "    fn load(&self, key: &str) -> Option<&String> {\n",
    "        self.storage.get(key)\n",
    "    }\n",
    "\n",
    "    fn store(&mut self, key: String, value: String) {\n",
    "        self.storage.insert(key, value);\n",
    "    }\n",
    "}\n"
   ]
  },
  {
   "cell_type": "markdown",
   "id": "2e60b878",
   "metadata": {},
   "source": [
    "### Warm/Cold"
   ]
  },
  {
   "cell_type": "markdown",
   "id": "d7515c89",
   "metadata": {},
   "source": [
    "It costs different amount of gas whether we access a warm or cold storage slot. \n",
    "A slot is said to be `warm` if it was access before. Otherwise it is `cold`.\n",
    "Accessing a slot that is `cold` costs more gas than accessing a `warm` slot.\n",
    "\n",
    "We implement that logic by keeping track of a `cache`. When we load a storage slot we save its key in that `cache`. If a key is in that `cache` it is said to be warm."
   ]
  },
  {
   "cell_type": "code",
   "execution_count": null,
   "id": "4d35c9ac",
   "metadata": {
    "vscode": {
     "languageId": "rust"
    }
   },
   "outputs": [],
   "source": [
    "use std::collections::HashMap;\n",
    "\n",
    "struct Storage {\n",
    "    storage: HashMap<String, u8>,\n",
    "    cache: Vec<String>,\n",
    "}\n",
    "\n",
    "impl Storage {\n",
    "    fn new() -> Self {\n",
    "        Storage {\n",
    "            storage: HashMap::new(),\n",
    "            cache: vec![],\n",
    "        }\n",
    "    }\n",
    "\n",
    "    fn load(&mut self, key: &str) -> (bool, u8) {\n",
    "        let warm = self.cache.contains(&key.to_string());\n",
    "\n",
    "        if !warm {\n",
    "            self.cache.push(key.to_string());\n",
    "        }\n",
    "\n",
    "        let value = self.storage.get(key).copied().unwrap_or(0x00);\n",
    "        (warm, value)\n",
    "    }\n",
    "\n",
    "    fn store(&mut self, key: String, value: u8) {\n",
    "        self.storage.insert(key, value);\n",
    "    }\n",
    "}\n"
   ]
  },
  {
   "cell_type": "code",
   "execution_count": null,
   "id": "c9cba219",
   "metadata": {
    "vscode": {
     "languageId": "rust"
    }
   },
   "outputs": [],
   "source": [
    "let mut storage = Storage::new();"
   ]
  },
  {
   "cell_type": "markdown",
   "id": "352aa83d",
   "metadata": {},
   "source": [
    "We store `420` in storage slot `1`"
   ]
  },
  {
   "cell_type": "code",
   "execution_count": null,
   "id": "4ff21851",
   "metadata": {
    "vscode": {
     "languageId": "rust"
    }
   },
   "outputs": [],
   "source": [
    "storage.store(1u64.to_string(), 420);"
   ]
  },
  {
   "cell_type": "markdown",
   "id": "037c7a05",
   "metadata": {},
   "source": [
    "Notice how the first time retrieving something from storage slot `1` its `cold`"
   ]
  },
  {
   "cell_type": "code",
   "execution_count": null,
   "id": "7e3f84c7",
   "metadata": {
    "vscode": {
     "languageId": "rust"
    }
   },
   "outputs": [
    {
     "data": {
      "text/plain": [
       "(False, 420)"
      ]
     },
     "execution_count": 33,
     "metadata": {},
     "output_type": "execute_result"
    }
   ],
   "source": [
    "let (warm, value) = storage.load(&1u64.to_string());"
   ]
  },
  {
   "cell_type": "markdown",
   "id": "80e548e3",
   "metadata": {},
   "source": [
    "Now storage slot `1` is `warm`"
   ]
  },
  {
   "cell_type": "code",
   "execution_count": null,
   "id": "6c25d6ff",
   "metadata": {
    "vscode": {
     "languageId": "rust"
    }
   },
   "outputs": [
    {
     "data": {
      "text/plain": [
       "(True, 420)"
      ]
     },
     "execution_count": 34,
     "metadata": {},
     "output_type": "execute_result"
    }
   ],
   "source": [
    "let (warm, value) = storage.load(&1.to_string());"
   ]
  },
  {
   "cell_type": "markdown",
   "id": "257055b8",
   "metadata": {},
   "source": [
    "Reading a random storage that was not set to any value will return 0 and **not** throw an exception."
   ]
  },
  {
   "cell_type": "code",
   "execution_count": 35,
   "id": "bc839596",
   "metadata": {},
   "outputs": [
    {
     "data": {
      "text/plain": [
       "0"
      ]
     },
     "execution_count": 35,
     "metadata": {},
     "output_type": "execute_result"
    }
   ],
   "source": [
    "storage.load(42069)"
   ]
  }
 ],
 "metadata": {
  "kernelspec": {
   "display_name": "Python 3 (ipykernel)",
   "language": "python",
   "name": "python3"
  },
  "language_info": {
   "codemirror_mode": {
    "name": "ipython",
    "version": 3
   },
   "file_extension": ".py",
   "mimetype": "text/x-python",
   "name": "python",
   "nbconvert_exporter": "python",
   "pygments_lexer": "ipython3",
   "version": "3.9.6"
  }
 },
 "nbformat": 4,
 "nbformat_minor": 5
}
